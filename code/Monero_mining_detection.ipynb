{
 "cells": [
  {
   "cell_type": "code",
   "execution_count": 1,
   "metadata": {},
   "outputs": [],
   "source": [
    "import numpy as np\n",
    "import pandas as pd\n",
    "import os\n",
    "%matplotlib inline\n",
    "import matplotlib.pyplot as plt\n",
    "from pandas.plotting import scatter_matrix\n",
    "from sklearn.preprocessing import StandardScaler\n",
    "from sklearn.metrics import mean_squared_error\n",
    "from sklearn.tree import DecisionTreeClassifier\n",
    "from sklearn.ensemble import RandomForestClassifier\n",
    "from sklearn.model_selection import cross_val_score\n",
    "from sklearn.model_selection import cross_val_predict\n",
    "from sklearn.metrics import confusion_matrix\n",
    "from sklearn.metrics import precision_score, recall_score, f1_score\n"
   ]
  },
  {
   "cell_type": "code",
   "execution_count": 2,
   "metadata": {},
   "outputs": [],
   "source": [
    "dataDir = \"../data generation/Tstat/stdin/\"\n",
    "datafile = \"/log_tcp_complete\"\n",
    "poolIPsFile = \"../poolIP.txt\""
   ]
  },
  {
   "cell_type": "code",
   "execution_count": 3,
   "metadata": {},
   "outputs": [],
   "source": [
    "## Aggregate Data\n",
    "raw_df = pd.DataFrame()\n",
    "for datafolder in sorted(os.listdir(dataDir)):\n",
    "    if datafolder > '2022_05_16_02_42.out':\n",
    "        break\n",
    "    dataPointFile = dataDir + datafolder + datafile\n",
    "    raw_df = pd.concat([raw_df, pd.read_csv(dataPointFile, sep = ' ')])"
   ]
  },
  {
   "cell_type": "code",
   "execution_count": 4,
   "metadata": {},
   "outputs": [],
   "source": [
    "raw_df = raw_df.reset_index(drop=True)"
   ]
  },
  {
   "cell_type": "code",
   "execution_count": 5,
   "metadata": {},
   "outputs": [
    {
     "data": {
      "text/html": [
       "<div>\n",
       "<style scoped>\n",
       "    .dataframe tbody tr th:only-of-type {\n",
       "        vertical-align: middle;\n",
       "    }\n",
       "\n",
       "    .dataframe tbody tr th {\n",
       "        vertical-align: top;\n",
       "    }\n",
       "\n",
       "    .dataframe thead th {\n",
       "        text-align: right;\n",
       "    }\n",
       "</style>\n",
       "<table border=\"1\" class=\"dataframe\">\n",
       "  <thead>\n",
       "    <tr style=\"text-align: right;\">\n",
       "      <th></th>\n",
       "      <th>#09#c_ip:1</th>\n",
       "      <th>c_port:2</th>\n",
       "      <th>c_pkts_all:3</th>\n",
       "      <th>c_rst_cnt:4</th>\n",
       "      <th>c_ack_cnt:5</th>\n",
       "      <th>c_ack_cnt_p:6</th>\n",
       "      <th>c_bytes_uniq:7</th>\n",
       "      <th>c_pkts_data:8</th>\n",
       "      <th>c_bytes_all:9</th>\n",
       "      <th>c_pkts_retx:10</th>\n",
       "      <th>...</th>\n",
       "      <th>s_cwin_ini:95</th>\n",
       "      <th>s_pkts_rto:96</th>\n",
       "      <th>s_pkts_fs:97</th>\n",
       "      <th>s_pkts_reor:98</th>\n",
       "      <th>s_pkts_dup:99</th>\n",
       "      <th>s_pkts_unk:100</th>\n",
       "      <th>s_pkts_fc:101</th>\n",
       "      <th>s_pkts_unrto:102</th>\n",
       "      <th>s_pkts_unfs:103</th>\n",
       "      <th>s_syn_retx:104</th>\n",
       "    </tr>\n",
       "  </thead>\n",
       "  <tbody>\n",
       "    <tr>\n",
       "      <th>0</th>\n",
       "      <td>192.168.0.92</td>\n",
       "      <td>43432</td>\n",
       "      <td>12</td>\n",
       "      <td>0</td>\n",
       "      <td>11</td>\n",
       "      <td>5</td>\n",
       "      <td>2473</td>\n",
       "      <td>5</td>\n",
       "      <td>2473</td>\n",
       "      <td>0</td>\n",
       "      <td>...</td>\n",
       "      <td>1460</td>\n",
       "      <td>0</td>\n",
       "      <td>0</td>\n",
       "      <td>1</td>\n",
       "      <td>0</td>\n",
       "      <td>0</td>\n",
       "      <td>0</td>\n",
       "      <td>0</td>\n",
       "      <td>0</td>\n",
       "      <td>0</td>\n",
       "    </tr>\n",
       "    <tr>\n",
       "      <th>1</th>\n",
       "      <td>192.168.0.92</td>\n",
       "      <td>43434</td>\n",
       "      <td>12</td>\n",
       "      <td>0</td>\n",
       "      <td>11</td>\n",
       "      <td>5</td>\n",
       "      <td>2595</td>\n",
       "      <td>5</td>\n",
       "      <td>2595</td>\n",
       "      <td>0</td>\n",
       "      <td>...</td>\n",
       "      <td>1460</td>\n",
       "      <td>0</td>\n",
       "      <td>0</td>\n",
       "      <td>1</td>\n",
       "      <td>0</td>\n",
       "      <td>0</td>\n",
       "      <td>0</td>\n",
       "      <td>0</td>\n",
       "      <td>0</td>\n",
       "      <td>0</td>\n",
       "    </tr>\n",
       "    <tr>\n",
       "      <th>2</th>\n",
       "      <td>192.168.0.92</td>\n",
       "      <td>45634</td>\n",
       "      <td>16</td>\n",
       "      <td>0</td>\n",
       "      <td>15</td>\n",
       "      <td>7</td>\n",
       "      <td>2999</td>\n",
       "      <td>7</td>\n",
       "      <td>5292</td>\n",
       "      <td>2</td>\n",
       "      <td>...</td>\n",
       "      <td>2920</td>\n",
       "      <td>0</td>\n",
       "      <td>0</td>\n",
       "      <td>1</td>\n",
       "      <td>0</td>\n",
       "      <td>2</td>\n",
       "      <td>0</td>\n",
       "      <td>0</td>\n",
       "      <td>0</td>\n",
       "      <td>0</td>\n",
       "    </tr>\n",
       "    <tr>\n",
       "      <th>3</th>\n",
       "      <td>192.168.0.92</td>\n",
       "      <td>45636</td>\n",
       "      <td>12</td>\n",
       "      <td>0</td>\n",
       "      <td>11</td>\n",
       "      <td>5</td>\n",
       "      <td>2765</td>\n",
       "      <td>5</td>\n",
       "      <td>2765</td>\n",
       "      <td>0</td>\n",
       "      <td>...</td>\n",
       "      <td>4435</td>\n",
       "      <td>0</td>\n",
       "      <td>0</td>\n",
       "      <td>1</td>\n",
       "      <td>0</td>\n",
       "      <td>1</td>\n",
       "      <td>0</td>\n",
       "      <td>0</td>\n",
       "      <td>0</td>\n",
       "      <td>0</td>\n",
       "    </tr>\n",
       "    <tr>\n",
       "      <th>4</th>\n",
       "      <td>192.168.0.92</td>\n",
       "      <td>47230</td>\n",
       "      <td>10</td>\n",
       "      <td>0</td>\n",
       "      <td>9</td>\n",
       "      <td>6</td>\n",
       "      <td>675</td>\n",
       "      <td>2</td>\n",
       "      <td>675</td>\n",
       "      <td>0</td>\n",
       "      <td>...</td>\n",
       "      <td>2920</td>\n",
       "      <td>0</td>\n",
       "      <td>0</td>\n",
       "      <td>1</td>\n",
       "      <td>0</td>\n",
       "      <td>0</td>\n",
       "      <td>0</td>\n",
       "      <td>0</td>\n",
       "      <td>0</td>\n",
       "      <td>0</td>\n",
       "    </tr>\n",
       "    <tr>\n",
       "      <th>...</th>\n",
       "      <td>...</td>\n",
       "      <td>...</td>\n",
       "      <td>...</td>\n",
       "      <td>...</td>\n",
       "      <td>...</td>\n",
       "      <td>...</td>\n",
       "      <td>...</td>\n",
       "      <td>...</td>\n",
       "      <td>...</td>\n",
       "      <td>...</td>\n",
       "      <td>...</td>\n",
       "      <td>...</td>\n",
       "      <td>...</td>\n",
       "      <td>...</td>\n",
       "      <td>...</td>\n",
       "      <td>...</td>\n",
       "      <td>...</td>\n",
       "      <td>...</td>\n",
       "      <td>...</td>\n",
       "      <td>...</td>\n",
       "      <td>...</td>\n",
       "    </tr>\n",
       "    <tr>\n",
       "      <th>11017</th>\n",
       "      <td>192.168.0.92</td>\n",
       "      <td>38492</td>\n",
       "      <td>36</td>\n",
       "      <td>0</td>\n",
       "      <td>35</td>\n",
       "      <td>27</td>\n",
       "      <td>1392</td>\n",
       "      <td>8</td>\n",
       "      <td>1392</td>\n",
       "      <td>0</td>\n",
       "      <td>...</td>\n",
       "      <td>150</td>\n",
       "      <td>0</td>\n",
       "      <td>0</td>\n",
       "      <td>1</td>\n",
       "      <td>0</td>\n",
       "      <td>0</td>\n",
       "      <td>0</td>\n",
       "      <td>0</td>\n",
       "      <td>0</td>\n",
       "      <td>0</td>\n",
       "    </tr>\n",
       "    <tr>\n",
       "      <th>11018</th>\n",
       "      <td>192.168.0.92</td>\n",
       "      <td>35410</td>\n",
       "      <td>13</td>\n",
       "      <td>0</td>\n",
       "      <td>12</td>\n",
       "      <td>7</td>\n",
       "      <td>2147</td>\n",
       "      <td>5</td>\n",
       "      <td>2147</td>\n",
       "      <td>0</td>\n",
       "      <td>...</td>\n",
       "      <td>5920</td>\n",
       "      <td>0</td>\n",
       "      <td>0</td>\n",
       "      <td>0</td>\n",
       "      <td>0</td>\n",
       "      <td>0</td>\n",
       "      <td>0</td>\n",
       "      <td>0</td>\n",
       "      <td>0</td>\n",
       "      <td>0</td>\n",
       "    </tr>\n",
       "    <tr>\n",
       "      <th>11019</th>\n",
       "      <td>192.168.0.92</td>\n",
       "      <td>54440</td>\n",
       "      <td>22</td>\n",
       "      <td>1</td>\n",
       "      <td>20</td>\n",
       "      <td>14</td>\n",
       "      <td>1419</td>\n",
       "      <td>5</td>\n",
       "      <td>1419</td>\n",
       "      <td>0</td>\n",
       "      <td>...</td>\n",
       "      <td>2896</td>\n",
       "      <td>0</td>\n",
       "      <td>0</td>\n",
       "      <td>0</td>\n",
       "      <td>0</td>\n",
       "      <td>0</td>\n",
       "      <td>0</td>\n",
       "      <td>0</td>\n",
       "      <td>0</td>\n",
       "      <td>0</td>\n",
       "    </tr>\n",
       "    <tr>\n",
       "      <th>11020</th>\n",
       "      <td>192.168.0.92</td>\n",
       "      <td>54448</td>\n",
       "      <td>23</td>\n",
       "      <td>0</td>\n",
       "      <td>22</td>\n",
       "      <td>10</td>\n",
       "      <td>4795</td>\n",
       "      <td>10</td>\n",
       "      <td>4795</td>\n",
       "      <td>1</td>\n",
       "      <td>...</td>\n",
       "      <td>392</td>\n",
       "      <td>1</td>\n",
       "      <td>0</td>\n",
       "      <td>0</td>\n",
       "      <td>0</td>\n",
       "      <td>0</td>\n",
       "      <td>0</td>\n",
       "      <td>0</td>\n",
       "      <td>0</td>\n",
       "      <td>0</td>\n",
       "    </tr>\n",
       "    <tr>\n",
       "      <th>11021</th>\n",
       "      <td>192.168.0.92</td>\n",
       "      <td>54446</td>\n",
       "      <td>22</td>\n",
       "      <td>0</td>\n",
       "      <td>21</td>\n",
       "      <td>10</td>\n",
       "      <td>5622</td>\n",
       "      <td>9</td>\n",
       "      <td>5622</td>\n",
       "      <td>1</td>\n",
       "      <td>...</td>\n",
       "      <td>392</td>\n",
       "      <td>0</td>\n",
       "      <td>0</td>\n",
       "      <td>1</td>\n",
       "      <td>0</td>\n",
       "      <td>0</td>\n",
       "      <td>0</td>\n",
       "      <td>0</td>\n",
       "      <td>0</td>\n",
       "      <td>0</td>\n",
       "    </tr>\n",
       "  </tbody>\n",
       "</table>\n",
       "<p>11022 rows × 104 columns</p>\n",
       "</div>"
      ],
      "text/plain": [
       "         #09#c_ip:1  c_port:2  c_pkts_all:3  c_rst_cnt:4  c_ack_cnt:5  \\\n",
       "0      192.168.0.92     43432            12            0           11   \n",
       "1      192.168.0.92     43434            12            0           11   \n",
       "2      192.168.0.92     45634            16            0           15   \n",
       "3      192.168.0.92     45636            12            0           11   \n",
       "4      192.168.0.92     47230            10            0            9   \n",
       "...             ...       ...           ...          ...          ...   \n",
       "11017  192.168.0.92     38492            36            0           35   \n",
       "11018  192.168.0.92     35410            13            0           12   \n",
       "11019  192.168.0.92     54440            22            1           20   \n",
       "11020  192.168.0.92     54448            23            0           22   \n",
       "11021  192.168.0.92     54446            22            0           21   \n",
       "\n",
       "       c_ack_cnt_p:6  c_bytes_uniq:7  c_pkts_data:8  c_bytes_all:9  \\\n",
       "0                  5            2473              5           2473   \n",
       "1                  5            2595              5           2595   \n",
       "2                  7            2999              7           5292   \n",
       "3                  5            2765              5           2765   \n",
       "4                  6             675              2            675   \n",
       "...              ...             ...            ...            ...   \n",
       "11017             27            1392              8           1392   \n",
       "11018              7            2147              5           2147   \n",
       "11019             14            1419              5           1419   \n",
       "11020             10            4795             10           4795   \n",
       "11021             10            5622              9           5622   \n",
       "\n",
       "       c_pkts_retx:10  ...  s_cwin_ini:95  s_pkts_rto:96  s_pkts_fs:97  \\\n",
       "0                   0  ...           1460              0             0   \n",
       "1                   0  ...           1460              0             0   \n",
       "2                   2  ...           2920              0             0   \n",
       "3                   0  ...           4435              0             0   \n",
       "4                   0  ...           2920              0             0   \n",
       "...               ...  ...            ...            ...           ...   \n",
       "11017               0  ...            150              0             0   \n",
       "11018               0  ...           5920              0             0   \n",
       "11019               0  ...           2896              0             0   \n",
       "11020               1  ...            392              1             0   \n",
       "11021               1  ...            392              0             0   \n",
       "\n",
       "       s_pkts_reor:98 s_pkts_dup:99  s_pkts_unk:100  s_pkts_fc:101  \\\n",
       "0                   1             0               0              0   \n",
       "1                   1             0               0              0   \n",
       "2                   1             0               2              0   \n",
       "3                   1             0               1              0   \n",
       "4                   1             0               0              0   \n",
       "...               ...           ...             ...            ...   \n",
       "11017               1             0               0              0   \n",
       "11018               0             0               0              0   \n",
       "11019               0             0               0              0   \n",
       "11020               0             0               0              0   \n",
       "11021               1             0               0              0   \n",
       "\n",
       "       s_pkts_unrto:102  s_pkts_unfs:103  s_syn_retx:104  \n",
       "0                     0                0               0  \n",
       "1                     0                0               0  \n",
       "2                     0                0               0  \n",
       "3                     0                0               0  \n",
       "4                     0                0               0  \n",
       "...                 ...              ...             ...  \n",
       "11017                 0                0               0  \n",
       "11018                 0                0               0  \n",
       "11019                 0                0               0  \n",
       "11020                 0                0               0  \n",
       "11021                 0                0               0  \n",
       "\n",
       "[11022 rows x 104 columns]"
      ]
     },
     "execution_count": 5,
     "metadata": {},
     "output_type": "execute_result"
    }
   ],
   "source": [
    "raw_df"
   ]
  },
  {
   "cell_type": "code",
   "execution_count": 6,
   "metadata": {},
   "outputs": [
    {
     "name": "stdout",
     "output_type": "stream",
     "text": [
      "<class 'pandas.core.frame.DataFrame'>\n",
      "RangeIndex: 11022 entries, 0 to 11021\n",
      "Columns: 104 entries, #09#c_ip:1 to s_syn_retx:104\n",
      "dtypes: float64(17), int64(85), object(2)\n",
      "memory usage: 8.7+ MB\n"
     ]
    }
   ],
   "source": [
    "raw_df.info()"
   ]
  },
  {
   "cell_type": "code",
   "execution_count": 7,
   "metadata": {},
   "outputs": [
    {
     "name": "stdout",
     "output_type": "stream",
     "text": [
      "['#09#c_ip:1', 'c_port:2', 'c_pkts_all:3', 'c_rst_cnt:4', 'c_ack_cnt:5', 'c_ack_cnt_p:6', 'c_bytes_uniq:7', 'c_pkts_data:8', 'c_bytes_all:9', 'c_pkts_retx:10', 'c_bytes_retx:11', 'c_pkts_ooo:12', 'c_syn_cnt:13', 'c_fin_cnt:14', 's_ip:15', 's_port:16', 's_pkts_all:17', 's_rst_cnt:18', 's_ack_cnt:19', 's_ack_cnt_p:20', 's_bytes_uniq:21', 's_pkts_data:22', 's_bytes_all:23', 's_pkts_retx:24', 's_bytes_retx:25', 's_pkts_ooo:26', 's_syn_cnt:27', 's_fin_cnt:28', 'first:29', 'last:30', 'durat:31', 'c_first:32', 's_first:33', 'c_last:34', 's_last:35', 'c_first_ack:36', 's_first_ack:37', 'c_isint:38', 's_isint:39', 'c_iscrypto:40', 's_iscrypto:41', 'con_t:42', 'p2p_t:43', 'http_t:44', 'c_rtt_avg:45', 'c_rtt_min:46', 'c_rtt_max:47', 'c_rtt_std:48', 'c_rtt_cnt:49', 'c_ttl_min:50', 'c_ttl_max:51', 's_rtt_avg:52', 's_rtt_min:53', 's_rtt_max:54', 's_rtt_std:55', 's_rtt_cnt:56', 's_ttl_min:57', 's_ttl_max:58', 'c_f1323_opt:59', 'c_tm_opt:60', 'c_win_scl:61', 'c_sack_opt:62', 'c_sack_cnt:63', 'c_mss:64', 'c_mss_max:65', 'c_mss_min:66', 'c_win_max:67', 'c_win_min:68', 'c_win_0:69', 'c_cwin_max:70', 'c_cwin_min:71', 'c_cwin_ini:72', 'c_pkts_rto:73', 'c_pkts_fs:74', 'c_pkts_reor:75', 'c_pkts_dup:76', 'c_pkts_unk:77', 'c_pkts_fc:78', 'c_pkts_unrto:79', 'c_pkts_unfs:80', 'c_syn_retx:81', 's_f1323_opt:82', 's_tm_opt:83', 's_win_scl:84', 's_sack_opt:85', 's_sack_cnt:86', 's_mss:87', 's_mss_max:88', 's_mss_min:89', 's_win_max:90', 's_win_min:91', 's_win_0:92', 's_cwin_max:93', 's_cwin_min:94', 's_cwin_ini:95', 's_pkts_rto:96', 's_pkts_fs:97', 's_pkts_reor:98', 's_pkts_dup:99', 's_pkts_unk:100', 's_pkts_fc:101', 's_pkts_unrto:102', 's_pkts_unfs:103', 's_syn_retx:104']\n"
     ]
    }
   ],
   "source": [
    "print(raw_df.columns.tolist())"
   ]
  },
  {
   "cell_type": "code",
   "execution_count": 8,
   "metadata": {},
   "outputs": [
    {
     "name": "stdout",
     "output_type": "stream",
     "text": [
      "['178.32.120.127', '51.254.84.37', '51.68.21.186', '94.130.165.85', '94.130.164.163', '94.130.165.87', '94.130.164.163', '178.32.120.127', '94.130.164.163', '136.243.49.177', '51.68.21.186', '94.130.164.163', '136.243.49.177', '136.243.49.177', '94.130.164.163', '51.68.21.188', '178.32.120.127', '51.254.84.37', '51.254.84.37', '94.130.165.85', '51.68.21.188', '51.68.21.186', '94.130.165.85', '136.243.49.177', '51.254.84.37', '51.254.84.37', '94.130.165.87', '178.32.120.127', '136.243.49.177', '178.32.120.127', '178.32.120.127', '51.68.21.186', '51.254.84.37', '94.130.164.163', '51.68.21.186', '94.130.164.163', '94.130.164.163', '51.68.21.188', '51.68.21.188', '178.32.120.127', '51.68.21.186', '51.68.21.188', '51.68.21.188', '51.254.84.37', '51.254.84.37', '51.68.21.186', '51.68.21.188', '51.68.21.186', '51.254.84.37', '51.68.21.186', '51.254.84.37', '178.32.120.127', '178.32.120.127', '94.130.164.163', '136.243.49.177', '178.32.120.127', '51.254.84.37', '51.68.21.186', '51.254.84.37', '178.32.120.127', '51.68.21.186', '178.32.120.127', '51.68.21.188', '94.130.165.85', '94.130.165.87', '94.130.164.163', '51.68.21.188', '51.68.21.186', '94.130.165.85', '51.68.21.188', '136.243.49.177', '178.32.120.127', '94.130.164.163', '51.68.21.188', '136.243.49.177', '178.32.120.127', '94.130.165.85', '51.68.21.186', '94.130.165.87', '51.68.21.186', '136.243.49.177', '94.130.165.87', '94.130.164.163', '94.130.165.85', '94.130.164.163', '94.130.165.85', '178.32.120.127', '94.130.164.163', '136.243.49.177', '94.130.164.163', '178.32.120.127', '51.68.21.186', '51.254.84.37', '94.130.164.163', '178.32.120.127', '94.130.165.85', '51.68.21.186', '94.130.165.87', '94.130.164.163', '178.32.120.127', '94.130.165.85', '94.130.165.87', '51.68.21.188', '94.130.165.85', '94.130.164.163', '94.130.165.87', '94.130.165.87', '51.68.21.188', '51.68.21.186', '94.130.165.87', '94.130.164.163', '51.68.21.188', '94.130.165.85', '51.68.21.188', '51.68.21.188', '51.254.84.37', '178.32.120.127', '178.32.120.127', '94.130.164.163']\n"
     ]
    }
   ],
   "source": [
    "f = open(dataDir + poolIPsFile, 'r')\n",
    "poolIPs = f.read().splitlines()\n",
    "print(poolIPs)"
   ]
  },
  {
   "cell_type": "code",
   "execution_count": 9,
   "metadata": {},
   "outputs": [],
   "source": [
    "def is_pool(x):\n",
    "    return 1 if x in poolIPs else 0\n",
    "\n",
    "raw_df[\"s_ip:15\"] = raw_df[\"s_ip:15\"].apply(is_pool)"
   ]
  },
  {
   "cell_type": "code",
   "execution_count": 10,
   "metadata": {},
   "outputs": [
    {
     "name": "stdout",
     "output_type": "stream",
     "text": [
      "positive labels:  202\n"
     ]
    }
   ],
   "source": [
    "print(\"positive labels: \", sum(raw_df[\"s_ip:15\"]))"
   ]
  },
  {
   "cell_type": "code",
   "execution_count": 11,
   "metadata": {},
   "outputs": [],
   "source": [
    "corr_matrix = raw_df.corr()"
   ]
  },
  {
   "cell_type": "code",
   "execution_count": 12,
   "metadata": {},
   "outputs": [
    {
     "name": "stdout",
     "output_type": "stream",
     "text": [
      "s_ip:15            1.000000\n",
      "c_rst_cnt:4        0.199001\n",
      "c_mss_min:66       0.196438\n",
      "c_cwin_min:71      0.193658\n",
      "s_tm_opt:83        0.076739\n",
      "                     ...   \n",
      "c_pkts_unfs:80          NaN\n",
      "c_syn_retx:81           NaN\n",
      "s_pkts_fc:101           NaN\n",
      "s_pkts_unfs:103         NaN\n",
      "s_syn_retx:104          NaN\n",
      "Name: s_ip:15, Length: 103, dtype: float64\n"
     ]
    }
   ],
   "source": [
    "print(corr_matrix[\"s_ip:15\"].sort_values(ascending=False))"
   ]
  },
  {
   "cell_type": "code",
   "execution_count": 13,
   "metadata": {},
   "outputs": [],
   "source": [
    "raw_df_prooned = raw_df.drop([\"#09#c_ip:1\", \"c_port:2\", \"s_port:16\", 'c_pkts_ooo:12',\n",
    " 'c_isint:38', 's_isint:39', 'c_iscrypto:40', 's_iscrypto:41', 'p2p_t:43',\n",
    "  'c_ttl_min:50', 'c_ttl_max:51', 'c_f1323_opt:59', 'c_tm_opt:60',\n",
    "   'c_sack_opt:62', 'c_mss:64', 'c_win_0:69', 'c_pkts_reor:75',\n",
    "    'c_pkts_dup:76', 'c_pkts_fc:78', 'c_pkts_unrto:79',\n",
    "     'c_pkts_unfs:80', 'c_syn_retx:81', 's_pkts_fc:101',\n",
    "      's_pkts_unfs:103', 's_syn_retx:104'], axis=1)"
   ]
  },
  {
   "cell_type": "code",
   "execution_count": 14,
   "metadata": {},
   "outputs": [
    {
     "data": {
      "text/plain": [
       "Index(['c_pkts_all:3', 'c_rst_cnt:4', 'c_ack_cnt:5', 'c_ack_cnt_p:6',\n",
       "       'c_bytes_uniq:7', 'c_pkts_data:8', 'c_bytes_all:9', 'c_pkts_retx:10',\n",
       "       'c_bytes_retx:11', 'c_syn_cnt:13', 'c_fin_cnt:14', 's_ip:15',\n",
       "       's_pkts_all:17', 's_rst_cnt:18', 's_ack_cnt:19', 's_ack_cnt_p:20',\n",
       "       's_bytes_uniq:21', 's_pkts_data:22', 's_bytes_all:23', 's_pkts_retx:24',\n",
       "       's_bytes_retx:25', 's_pkts_ooo:26', 's_syn_cnt:27', 's_fin_cnt:28',\n",
       "       'first:29', 'last:30', 'durat:31', 'c_first:32', 's_first:33',\n",
       "       'c_last:34', 's_last:35', 'c_first_ack:36', 's_first_ack:37',\n",
       "       'con_t:42', 'http_t:44', 'c_rtt_avg:45', 'c_rtt_min:46', 'c_rtt_max:47',\n",
       "       'c_rtt_std:48', 'c_rtt_cnt:49', 's_rtt_avg:52', 's_rtt_min:53',\n",
       "       's_rtt_max:54', 's_rtt_std:55', 's_rtt_cnt:56', 's_ttl_min:57',\n",
       "       's_ttl_max:58', 'c_win_scl:61', 'c_sack_cnt:63', 'c_mss_max:65',\n",
       "       'c_mss_min:66', 'c_win_max:67', 'c_win_min:68', 'c_cwin_max:70',\n",
       "       'c_cwin_min:71', 'c_cwin_ini:72', 'c_pkts_rto:73', 'c_pkts_fs:74',\n",
       "       'c_pkts_unk:77', 's_f1323_opt:82', 's_tm_opt:83', 's_win_scl:84',\n",
       "       's_sack_opt:85', 's_sack_cnt:86', 's_mss:87', 's_mss_max:88',\n",
       "       's_mss_min:89', 's_win_max:90', 's_win_min:91', 's_win_0:92',\n",
       "       's_cwin_max:93', 's_cwin_min:94', 's_cwin_ini:95', 's_pkts_rto:96',\n",
       "       's_pkts_fs:97', 's_pkts_reor:98', 's_pkts_dup:99', 's_pkts_unk:100',\n",
       "       's_pkts_unrto:102'],\n",
       "      dtype='object')"
      ]
     },
     "execution_count": 14,
     "metadata": {},
     "output_type": "execute_result"
    }
   ],
   "source": [
    "raw_df_prooned.columns"
   ]
  },
  {
   "cell_type": "code",
   "execution_count": 15,
   "metadata": {},
   "outputs": [],
   "source": [
    "flow_df = raw_df_prooned.drop([\"s_ip:15\"], axis=1)\n",
    "labels = raw_df_prooned[\"s_ip:15\"].copy()"
   ]
  },
  {
   "cell_type": "code",
   "execution_count": 16,
   "metadata": {},
   "outputs": [
    {
     "name": "stdout",
     "output_type": "stream",
     "text": [
      "<class 'pandas.core.frame.DataFrame'>\n",
      "RangeIndex: 11022 entries, 0 to 11021\n",
      "Data columns (total 78 columns):\n",
      " #   Column            Non-Null Count  Dtype  \n",
      "---  ------            --------------  -----  \n",
      " 0   c_pkts_all:3      11022 non-null  int64  \n",
      " 1   c_rst_cnt:4       11022 non-null  int64  \n",
      " 2   c_ack_cnt:5       11022 non-null  int64  \n",
      " 3   c_ack_cnt_p:6     11022 non-null  int64  \n",
      " 4   c_bytes_uniq:7    11022 non-null  int64  \n",
      " 5   c_pkts_data:8     11022 non-null  int64  \n",
      " 6   c_bytes_all:9     11022 non-null  int64  \n",
      " 7   c_pkts_retx:10    11022 non-null  int64  \n",
      " 8   c_bytes_retx:11   11022 non-null  int64  \n",
      " 9   c_syn_cnt:13      11022 non-null  int64  \n",
      " 10  c_fin_cnt:14      11022 non-null  int64  \n",
      " 11  s_pkts_all:17     11022 non-null  int64  \n",
      " 12  s_rst_cnt:18      11022 non-null  int64  \n",
      " 13  s_ack_cnt:19      11022 non-null  int64  \n",
      " 14  s_ack_cnt_p:20    11022 non-null  int64  \n",
      " 15  s_bytes_uniq:21   11022 non-null  int64  \n",
      " 16  s_pkts_data:22    11022 non-null  int64  \n",
      " 17  s_bytes_all:23    11022 non-null  int64  \n",
      " 18  s_pkts_retx:24    11022 non-null  int64  \n",
      " 19  s_bytes_retx:25   11022 non-null  int64  \n",
      " 20  s_pkts_ooo:26     11022 non-null  int64  \n",
      " 21  s_syn_cnt:27      11022 non-null  int64  \n",
      " 22  s_fin_cnt:28      11022 non-null  int64  \n",
      " 23  first:29          11022 non-null  float64\n",
      " 24  last:30           11022 non-null  float64\n",
      " 25  durat:31          11022 non-null  float64\n",
      " 26  c_first:32        11022 non-null  float64\n",
      " 27  s_first:33        11022 non-null  float64\n",
      " 28  c_last:34         11022 non-null  float64\n",
      " 29  s_last:35         11022 non-null  float64\n",
      " 30  c_first_ack:36    11022 non-null  float64\n",
      " 31  s_first_ack:37    11022 non-null  float64\n",
      " 32  con_t:42          11022 non-null  int64  \n",
      " 33  http_t:44         11022 non-null  int64  \n",
      " 34  c_rtt_avg:45      11022 non-null  float64\n",
      " 35  c_rtt_min:46      11022 non-null  float64\n",
      " 36  c_rtt_max:47      11022 non-null  float64\n",
      " 37  c_rtt_std:48      11022 non-null  float64\n",
      " 38  c_rtt_cnt:49      11022 non-null  int64  \n",
      " 39  s_rtt_avg:52      11022 non-null  float64\n",
      " 40  s_rtt_min:53      11022 non-null  float64\n",
      " 41  s_rtt_max:54      11022 non-null  float64\n",
      " 42  s_rtt_std:55      11022 non-null  float64\n",
      " 43  s_rtt_cnt:56      11022 non-null  int64  \n",
      " 44  s_ttl_min:57      11022 non-null  int64  \n",
      " 45  s_ttl_max:58      11022 non-null  int64  \n",
      " 46  c_win_scl:61      11022 non-null  int64  \n",
      " 47  c_sack_cnt:63     11022 non-null  int64  \n",
      " 48  c_mss_max:65      11022 non-null  int64  \n",
      " 49  c_mss_min:66      11022 non-null  int64  \n",
      " 50  c_win_max:67      11022 non-null  int64  \n",
      " 51  c_win_min:68      11022 non-null  int64  \n",
      " 52  c_cwin_max:70     11022 non-null  int64  \n",
      " 53  c_cwin_min:71     11022 non-null  int64  \n",
      " 54  c_cwin_ini:72     11022 non-null  int64  \n",
      " 55  c_pkts_rto:73     11022 non-null  int64  \n",
      " 56  c_pkts_fs:74      11022 non-null  int64  \n",
      " 57  c_pkts_unk:77     11022 non-null  int64  \n",
      " 58  s_f1323_opt:82    11022 non-null  int64  \n",
      " 59  s_tm_opt:83       11022 non-null  int64  \n",
      " 60  s_win_scl:84      11022 non-null  int64  \n",
      " 61  s_sack_opt:85     11022 non-null  int64  \n",
      " 62  s_sack_cnt:86     11022 non-null  int64  \n",
      " 63  s_mss:87          11022 non-null  int64  \n",
      " 64  s_mss_max:88      11022 non-null  int64  \n",
      " 65  s_mss_min:89      11022 non-null  int64  \n",
      " 66  s_win_max:90      11022 non-null  int64  \n",
      " 67  s_win_min:91      11022 non-null  int64  \n",
      " 68  s_win_0:92        11022 non-null  int64  \n",
      " 69  s_cwin_max:93     11022 non-null  int64  \n",
      " 70  s_cwin_min:94     11022 non-null  int64  \n",
      " 71  s_cwin_ini:95     11022 non-null  int64  \n",
      " 72  s_pkts_rto:96     11022 non-null  int64  \n",
      " 73  s_pkts_fs:97      11022 non-null  int64  \n",
      " 74  s_pkts_reor:98    11022 non-null  int64  \n",
      " 75  s_pkts_dup:99     11022 non-null  int64  \n",
      " 76  s_pkts_unk:100    11022 non-null  int64  \n",
      " 77  s_pkts_unrto:102  11022 non-null  int64  \n",
      "dtypes: float64(17), int64(61)\n",
      "memory usage: 6.6 MB\n"
     ]
    }
   ],
   "source": [
    "flow_df.info()"
   ]
  },
  {
   "cell_type": "code",
   "execution_count": 17,
   "metadata": {},
   "outputs": [],
   "source": [
    "standardScaler = StandardScaler()\n",
    "flow_df = standardScaler.fit_transform(flow_df)"
   ]
  },
  {
   "cell_type": "code",
   "execution_count": 18,
   "metadata": {},
   "outputs": [],
   "source": [
    "treeClassifier = DecisionTreeClassifier()"
   ]
  },
  {
   "cell_type": "code",
   "execution_count": 19,
   "metadata": {},
   "outputs": [],
   "source": [
    "# scores = cross_val_score(treeClassifier, flow_df, labels, scoring=\"neg_mean_squared_error\", cv=10)\n",
    "# tree_rmse_scores = np.sqrt(-scores)\n",
    "flow_pred_labels = cross_val_predict(treeClassifier, flow_df, labels, cv=10)"
   ]
  },
  {
   "cell_type": "code",
   "execution_count": 20,
   "metadata": {},
   "outputs": [
    {
     "data": {
      "text/plain": [
       "array([[10819,     1],\n",
       "       [    4,   198]])"
      ]
     },
     "execution_count": 20,
     "metadata": {},
     "output_type": "execute_result"
    }
   ],
   "source": [
    "confusion_matrix(labels, flow_pred_labels)"
   ]
  },
  {
   "cell_type": "code",
   "execution_count": 21,
   "metadata": {},
   "outputs": [
    {
     "name": "stdout",
     "output_type": "stream",
     "text": [
      "Precision: 0.9949748743718593\n",
      "Recall: 0.9801980198019802\n",
      "F1: 0.9875311720698253\n"
     ]
    }
   ],
   "source": [
    "print(\"Precision:\", precision_score(labels, flow_pred_labels))\n",
    "print(\"Recall:\", recall_score(labels, flow_pred_labels))\n",
    "print(\"F1:\", f1_score(labels, flow_pred_labels))"
   ]
  },
  {
   "cell_type": "code",
   "execution_count": 22,
   "metadata": {},
   "outputs": [
    {
     "data": {
      "text/html": [
       "<style>#sk-container-id-1 {color: black;background-color: white;}#sk-container-id-1 pre{padding: 0;}#sk-container-id-1 div.sk-toggleable {background-color: white;}#sk-container-id-1 label.sk-toggleable__label {cursor: pointer;display: block;width: 100%;margin-bottom: 0;padding: 0.3em;box-sizing: border-box;text-align: center;}#sk-container-id-1 label.sk-toggleable__label-arrow:before {content: \"▸\";float: left;margin-right: 0.25em;color: #696969;}#sk-container-id-1 label.sk-toggleable__label-arrow:hover:before {color: black;}#sk-container-id-1 div.sk-estimator:hover label.sk-toggleable__label-arrow:before {color: black;}#sk-container-id-1 div.sk-toggleable__content {max-height: 0;max-width: 0;overflow: hidden;text-align: left;background-color: #f0f8ff;}#sk-container-id-1 div.sk-toggleable__content pre {margin: 0.2em;color: black;border-radius: 0.25em;background-color: #f0f8ff;}#sk-container-id-1 input.sk-toggleable__control:checked~div.sk-toggleable__content {max-height: 200px;max-width: 100%;overflow: auto;}#sk-container-id-1 input.sk-toggleable__control:checked~label.sk-toggleable__label-arrow:before {content: \"▾\";}#sk-container-id-1 div.sk-estimator input.sk-toggleable__control:checked~label.sk-toggleable__label {background-color: #d4ebff;}#sk-container-id-1 div.sk-label input.sk-toggleable__control:checked~label.sk-toggleable__label {background-color: #d4ebff;}#sk-container-id-1 input.sk-hidden--visually {border: 0;clip: rect(1px 1px 1px 1px);clip: rect(1px, 1px, 1px, 1px);height: 1px;margin: -1px;overflow: hidden;padding: 0;position: absolute;width: 1px;}#sk-container-id-1 div.sk-estimator {font-family: monospace;background-color: #f0f8ff;border: 1px dotted black;border-radius: 0.25em;box-sizing: border-box;margin-bottom: 0.5em;}#sk-container-id-1 div.sk-estimator:hover {background-color: #d4ebff;}#sk-container-id-1 div.sk-parallel-item::after {content: \"\";width: 100%;border-bottom: 1px solid gray;flex-grow: 1;}#sk-container-id-1 div.sk-label:hover label.sk-toggleable__label {background-color: #d4ebff;}#sk-container-id-1 div.sk-serial::before {content: \"\";position: absolute;border-left: 1px solid gray;box-sizing: border-box;top: 0;bottom: 0;left: 50%;z-index: 0;}#sk-container-id-1 div.sk-serial {display: flex;flex-direction: column;align-items: center;background-color: white;padding-right: 0.2em;padding-left: 0.2em;position: relative;}#sk-container-id-1 div.sk-item {position: relative;z-index: 1;}#sk-container-id-1 div.sk-parallel {display: flex;align-items: stretch;justify-content: center;background-color: white;position: relative;}#sk-container-id-1 div.sk-item::before, #sk-container-id-1 div.sk-parallel-item::before {content: \"\";position: absolute;border-left: 1px solid gray;box-sizing: border-box;top: 0;bottom: 0;left: 50%;z-index: -1;}#sk-container-id-1 div.sk-parallel-item {display: flex;flex-direction: column;z-index: 1;position: relative;background-color: white;}#sk-container-id-1 div.sk-parallel-item:first-child::after {align-self: flex-end;width: 50%;}#sk-container-id-1 div.sk-parallel-item:last-child::after {align-self: flex-start;width: 50%;}#sk-container-id-1 div.sk-parallel-item:only-child::after {width: 0;}#sk-container-id-1 div.sk-dashed-wrapped {border: 1px dashed gray;margin: 0 0.4em 0.5em 0.4em;box-sizing: border-box;padding-bottom: 0.4em;background-color: white;}#sk-container-id-1 div.sk-label label {font-family: monospace;font-weight: bold;display: inline-block;line-height: 1.2em;}#sk-container-id-1 div.sk-label-container {text-align: center;}#sk-container-id-1 div.sk-container {/* jupyter's `normalize.less` sets `[hidden] { display: none; }` but bootstrap.min.css set `[hidden] { display: none !important; }` so we also need the `!important` here to be able to override the default hidden behavior on the sphinx rendered scikit-learn.org. See: https://github.com/scikit-learn/scikit-learn/issues/21755 */display: inline-block !important;position: relative;}#sk-container-id-1 div.sk-text-repr-fallback {display: none;}</style><div id=\"sk-container-id-1\" class=\"sk-top-container\"><div class=\"sk-text-repr-fallback\"><pre>DecisionTreeClassifier()</pre><b>In a Jupyter environment, please rerun this cell to show the HTML representation or trust the notebook. <br />On GitHub, the HTML representation is unable to render, please try loading this page with nbviewer.org.</b></div><div class=\"sk-container\" hidden><div class=\"sk-item\"><div class=\"sk-estimator sk-toggleable\"><input class=\"sk-toggleable__control sk-hidden--visually\" id=\"sk-estimator-id-1\" type=\"checkbox\" checked><label for=\"sk-estimator-id-1\" class=\"sk-toggleable__label sk-toggleable__label-arrow\">DecisionTreeClassifier</label><div class=\"sk-toggleable__content\"><pre>DecisionTreeClassifier()</pre></div></div></div></div></div>"
      ],
      "text/plain": [
       "DecisionTreeClassifier()"
      ]
     },
     "execution_count": 22,
     "metadata": {},
     "output_type": "execute_result"
    }
   ],
   "source": [
    "treeClassifier.fit(flow_df, labels)"
   ]
  },
  {
   "cell_type": "code",
   "execution_count": 23,
   "metadata": {},
   "outputs": [
    {
     "name": "stdout",
     "output_type": "stream",
     "text": [
      "2022_05_16_03_43.out\n",
      "2022_05_16_04_43.out\n",
      "2022_05_16_05_43.out\n",
      "2022_05_16_06_43.out\n",
      "2022_05_16_07_43.out\n",
      "2022_05_16_08_44.out\n",
      "2022_05_16_09_44.out\n",
      "2022_05_16_10_44.out\n",
      "2022_05_16_11_44.out\n",
      "2022_05_16_12_44.out\n"
     ]
    }
   ],
   "source": [
    "test_raw_df = pd.DataFrame()\n",
    "for datafolder in sorted(os.listdir(dataDir)):\n",
    "    if datafolder > '2022_05_16_02_42.out':\n",
    "        print(datafolder)\n",
    "        dataPointFile = dataDir + datafolder + datafile\n",
    "        test_raw_df = pd.concat([test_raw_df, pd.read_csv(dataPointFile, sep = ' ')])\n",
    "test_raw_df = test_raw_df.reset_index(drop=True)"
   ]
  },
  {
   "cell_type": "code",
   "execution_count": 24,
   "metadata": {},
   "outputs": [
    {
     "name": "stdout",
     "output_type": "stream",
     "text": [
      "['178.32.120.127', '51.254.84.37', '51.68.21.186', '94.130.165.85', '94.130.164.163', '94.130.165.87', '94.130.164.163', '178.32.120.127', '94.130.164.163', '136.243.49.177', '51.68.21.186', '94.130.164.163', '136.243.49.177', '136.243.49.177', '94.130.164.163', '51.68.21.188', '178.32.120.127', '51.254.84.37', '51.254.84.37', '94.130.165.85', '51.68.21.188', '51.68.21.186', '94.130.165.85', '136.243.49.177', '51.254.84.37', '51.254.84.37', '94.130.165.87', '178.32.120.127', '136.243.49.177', '178.32.120.127', '178.32.120.127', '51.68.21.186', '51.254.84.37', '94.130.164.163', '51.68.21.186', '94.130.164.163', '94.130.164.163', '51.68.21.188', '51.68.21.188', '178.32.120.127', '51.68.21.186', '51.68.21.188', '51.68.21.188', '51.254.84.37', '51.254.84.37', '51.68.21.186', '51.68.21.188', '51.68.21.186', '51.254.84.37', '51.68.21.186', '51.254.84.37', '178.32.120.127', '178.32.120.127', '94.130.164.163', '136.243.49.177', '178.32.120.127', '51.254.84.37', '51.68.21.186', '51.254.84.37', '178.32.120.127', '51.68.21.186', '178.32.120.127', '51.68.21.188', '94.130.165.85', '94.130.165.87', '94.130.164.163', '51.68.21.188', '51.68.21.186', '94.130.165.85', '51.68.21.188', '136.243.49.177', '178.32.120.127', '94.130.164.163', '51.68.21.188', '136.243.49.177', '178.32.120.127', '94.130.165.85', '51.68.21.186', '94.130.165.87', '51.68.21.186', '136.243.49.177', '94.130.165.87', '94.130.164.163', '94.130.165.85', '94.130.164.163', '94.130.165.85', '178.32.120.127', '94.130.164.163', '136.243.49.177', '94.130.164.163', '178.32.120.127', '51.68.21.186', '51.254.84.37', '94.130.164.163', '178.32.120.127', '94.130.165.85', '51.68.21.186', '94.130.165.87', '94.130.164.163', '178.32.120.127', '94.130.165.85', '94.130.165.87', '51.68.21.188', '94.130.165.85', '94.130.164.163', '94.130.165.87', '94.130.165.87', '51.68.21.188', '51.68.21.186', '94.130.165.87', '94.130.164.163', '51.68.21.188', '94.130.165.85', '51.68.21.188', '51.68.21.188', '51.254.84.37', '178.32.120.127', '178.32.120.127', '94.130.164.163']\n"
     ]
    }
   ],
   "source": [
    "f = open(dataDir + poolIPsFile, 'r')\n",
    "poolIPs = f.read().splitlines()\n",
    "print(poolIPs)"
   ]
  },
  {
   "cell_type": "code",
   "execution_count": 25,
   "metadata": {},
   "outputs": [
    {
     "data": {
      "text/html": [
       "<div>\n",
       "<style scoped>\n",
       "    .dataframe tbody tr th:only-of-type {\n",
       "        vertical-align: middle;\n",
       "    }\n",
       "\n",
       "    .dataframe tbody tr th {\n",
       "        vertical-align: top;\n",
       "    }\n",
       "\n",
       "    .dataframe thead th {\n",
       "        text-align: right;\n",
       "    }\n",
       "</style>\n",
       "<table border=\"1\" class=\"dataframe\">\n",
       "  <thead>\n",
       "    <tr style=\"text-align: right;\">\n",
       "      <th></th>\n",
       "      <th>#09#c_ip:1</th>\n",
       "      <th>c_port:2</th>\n",
       "      <th>c_pkts_all:3</th>\n",
       "      <th>c_rst_cnt:4</th>\n",
       "      <th>c_ack_cnt:5</th>\n",
       "      <th>c_ack_cnt_p:6</th>\n",
       "      <th>c_bytes_uniq:7</th>\n",
       "      <th>c_pkts_data:8</th>\n",
       "      <th>c_bytes_all:9</th>\n",
       "      <th>c_pkts_retx:10</th>\n",
       "      <th>...</th>\n",
       "      <th>s_cwin_ini:95</th>\n",
       "      <th>s_pkts_rto:96</th>\n",
       "      <th>s_pkts_fs:97</th>\n",
       "      <th>s_pkts_reor:98</th>\n",
       "      <th>s_pkts_dup:99</th>\n",
       "      <th>s_pkts_unk:100</th>\n",
       "      <th>s_pkts_fc:101</th>\n",
       "      <th>s_pkts_unrto:102</th>\n",
       "      <th>s_pkts_unfs:103</th>\n",
       "      <th>s_syn_retx:104</th>\n",
       "    </tr>\n",
       "  </thead>\n",
       "  <tbody>\n",
       "    <tr>\n",
       "      <th>0</th>\n",
       "      <td>192.168.0.92</td>\n",
       "      <td>46662</td>\n",
       "      <td>26</td>\n",
       "      <td>0</td>\n",
       "      <td>25</td>\n",
       "      <td>18</td>\n",
       "      <td>1848</td>\n",
       "      <td>6</td>\n",
       "      <td>1848</td>\n",
       "      <td>0</td>\n",
       "      <td>...</td>\n",
       "      <td>99</td>\n",
       "      <td>0</td>\n",
       "      <td>0</td>\n",
       "      <td>2</td>\n",
       "      <td>0</td>\n",
       "      <td>1</td>\n",
       "      <td>0</td>\n",
       "      <td>0</td>\n",
       "      <td>0</td>\n",
       "      <td>0</td>\n",
       "    </tr>\n",
       "    <tr>\n",
       "      <th>1</th>\n",
       "      <td>192.168.0.92</td>\n",
       "      <td>54450</td>\n",
       "      <td>21</td>\n",
       "      <td>0</td>\n",
       "      <td>20</td>\n",
       "      <td>10</td>\n",
       "      <td>2125</td>\n",
       "      <td>9</td>\n",
       "      <td>2125</td>\n",
       "      <td>0</td>\n",
       "      <td>...</td>\n",
       "      <td>392</td>\n",
       "      <td>0</td>\n",
       "      <td>0</td>\n",
       "      <td>0</td>\n",
       "      <td>0</td>\n",
       "      <td>0</td>\n",
       "      <td>0</td>\n",
       "      <td>0</td>\n",
       "      <td>0</td>\n",
       "      <td>0</td>\n",
       "    </tr>\n",
       "    <tr>\n",
       "      <th>2</th>\n",
       "      <td>192.168.0.92</td>\n",
       "      <td>54442</td>\n",
       "      <td>24</td>\n",
       "      <td>0</td>\n",
       "      <td>23</td>\n",
       "      <td>12</td>\n",
       "      <td>4361</td>\n",
       "      <td>9</td>\n",
       "      <td>4361</td>\n",
       "      <td>1</td>\n",
       "      <td>...</td>\n",
       "      <td>392</td>\n",
       "      <td>0</td>\n",
       "      <td>0</td>\n",
       "      <td>0</td>\n",
       "      <td>0</td>\n",
       "      <td>0</td>\n",
       "      <td>0</td>\n",
       "      <td>0</td>\n",
       "      <td>0</td>\n",
       "      <td>0</td>\n",
       "    </tr>\n",
       "    <tr>\n",
       "      <th>3</th>\n",
       "      <td>192.168.0.92</td>\n",
       "      <td>54444</td>\n",
       "      <td>32</td>\n",
       "      <td>0</td>\n",
       "      <td>31</td>\n",
       "      <td>17</td>\n",
       "      <td>7120</td>\n",
       "      <td>13</td>\n",
       "      <td>7120</td>\n",
       "      <td>0</td>\n",
       "      <td>...</td>\n",
       "      <td>392</td>\n",
       "      <td>0</td>\n",
       "      <td>0</td>\n",
       "      <td>0</td>\n",
       "      <td>0</td>\n",
       "      <td>1</td>\n",
       "      <td>0</td>\n",
       "      <td>0</td>\n",
       "      <td>0</td>\n",
       "      <td>0</td>\n",
       "    </tr>\n",
       "    <tr>\n",
       "      <th>4</th>\n",
       "      <td>192.168.0.92</td>\n",
       "      <td>54430</td>\n",
       "      <td>33</td>\n",
       "      <td>0</td>\n",
       "      <td>32</td>\n",
       "      <td>22</td>\n",
       "      <td>3061</td>\n",
       "      <td>9</td>\n",
       "      <td>3061</td>\n",
       "      <td>0</td>\n",
       "      <td>...</td>\n",
       "      <td>392</td>\n",
       "      <td>0</td>\n",
       "      <td>0</td>\n",
       "      <td>0</td>\n",
       "      <td>0</td>\n",
       "      <td>0</td>\n",
       "      <td>0</td>\n",
       "      <td>0</td>\n",
       "      <td>0</td>\n",
       "      <td>0</td>\n",
       "    </tr>\n",
       "    <tr>\n",
       "      <th>...</th>\n",
       "      <td>...</td>\n",
       "      <td>...</td>\n",
       "      <td>...</td>\n",
       "      <td>...</td>\n",
       "      <td>...</td>\n",
       "      <td>...</td>\n",
       "      <td>...</td>\n",
       "      <td>...</td>\n",
       "      <td>...</td>\n",
       "      <td>...</td>\n",
       "      <td>...</td>\n",
       "      <td>...</td>\n",
       "      <td>...</td>\n",
       "      <td>...</td>\n",
       "      <td>...</td>\n",
       "      <td>...</td>\n",
       "      <td>...</td>\n",
       "      <td>...</td>\n",
       "      <td>...</td>\n",
       "      <td>...</td>\n",
       "      <td>...</td>\n",
       "    </tr>\n",
       "    <tr>\n",
       "      <th>2128</th>\n",
       "      <td>192.168.0.92</td>\n",
       "      <td>57524</td>\n",
       "      <td>40</td>\n",
       "      <td>1</td>\n",
       "      <td>38</td>\n",
       "      <td>26</td>\n",
       "      <td>2645</td>\n",
       "      <td>11</td>\n",
       "      <td>2645</td>\n",
       "      <td>0</td>\n",
       "      <td>...</td>\n",
       "      <td>392</td>\n",
       "      <td>0</td>\n",
       "      <td>0</td>\n",
       "      <td>0</td>\n",
       "      <td>0</td>\n",
       "      <td>0</td>\n",
       "      <td>0</td>\n",
       "      <td>0</td>\n",
       "      <td>0</td>\n",
       "      <td>0</td>\n",
       "    </tr>\n",
       "    <tr>\n",
       "      <th>2129</th>\n",
       "      <td>192.168.0.92</td>\n",
       "      <td>57544</td>\n",
       "      <td>10</td>\n",
       "      <td>1</td>\n",
       "      <td>8</td>\n",
       "      <td>3</td>\n",
       "      <td>1354</td>\n",
       "      <td>4</td>\n",
       "      <td>1354</td>\n",
       "      <td>0</td>\n",
       "      <td>...</td>\n",
       "      <td>392</td>\n",
       "      <td>0</td>\n",
       "      <td>0</td>\n",
       "      <td>0</td>\n",
       "      <td>0</td>\n",
       "      <td>0</td>\n",
       "      <td>0</td>\n",
       "      <td>0</td>\n",
       "      <td>0</td>\n",
       "      <td>0</td>\n",
       "    </tr>\n",
       "    <tr>\n",
       "      <th>2130</th>\n",
       "      <td>192.168.0.92</td>\n",
       "      <td>57546</td>\n",
       "      <td>13</td>\n",
       "      <td>1</td>\n",
       "      <td>11</td>\n",
       "      <td>6</td>\n",
       "      <td>1354</td>\n",
       "      <td>4</td>\n",
       "      <td>1354</td>\n",
       "      <td>0</td>\n",
       "      <td>...</td>\n",
       "      <td>1448</td>\n",
       "      <td>0</td>\n",
       "      <td>0</td>\n",
       "      <td>1</td>\n",
       "      <td>0</td>\n",
       "      <td>0</td>\n",
       "      <td>0</td>\n",
       "      <td>0</td>\n",
       "      <td>0</td>\n",
       "      <td>0</td>\n",
       "    </tr>\n",
       "    <tr>\n",
       "      <th>2131</th>\n",
       "      <td>192.168.0.92</td>\n",
       "      <td>57548</td>\n",
       "      <td>13</td>\n",
       "      <td>1</td>\n",
       "      <td>11</td>\n",
       "      <td>6</td>\n",
       "      <td>1354</td>\n",
       "      <td>4</td>\n",
       "      <td>1354</td>\n",
       "      <td>0</td>\n",
       "      <td>...</td>\n",
       "      <td>2896</td>\n",
       "      <td>0</td>\n",
       "      <td>0</td>\n",
       "      <td>1</td>\n",
       "      <td>0</td>\n",
       "      <td>0</td>\n",
       "      <td>0</td>\n",
       "      <td>0</td>\n",
       "      <td>0</td>\n",
       "      <td>0</td>\n",
       "    </tr>\n",
       "    <tr>\n",
       "      <th>2132</th>\n",
       "      <td>192.168.0.92</td>\n",
       "      <td>57540</td>\n",
       "      <td>12</td>\n",
       "      <td>1</td>\n",
       "      <td>10</td>\n",
       "      <td>3</td>\n",
       "      <td>1354</td>\n",
       "      <td>5</td>\n",
       "      <td>1897</td>\n",
       "      <td>2</td>\n",
       "      <td>...</td>\n",
       "      <td>392</td>\n",
       "      <td>0</td>\n",
       "      <td>0</td>\n",
       "      <td>0</td>\n",
       "      <td>0</td>\n",
       "      <td>0</td>\n",
       "      <td>0</td>\n",
       "      <td>0</td>\n",
       "      <td>0</td>\n",
       "      <td>0</td>\n",
       "    </tr>\n",
       "  </tbody>\n",
       "</table>\n",
       "<p>2133 rows × 104 columns</p>\n",
       "</div>"
      ],
      "text/plain": [
       "        #09#c_ip:1  c_port:2  c_pkts_all:3  c_rst_cnt:4  c_ack_cnt:5  \\\n",
       "0     192.168.0.92     46662            26            0           25   \n",
       "1     192.168.0.92     54450            21            0           20   \n",
       "2     192.168.0.92     54442            24            0           23   \n",
       "3     192.168.0.92     54444            32            0           31   \n",
       "4     192.168.0.92     54430            33            0           32   \n",
       "...            ...       ...           ...          ...          ...   \n",
       "2128  192.168.0.92     57524            40            1           38   \n",
       "2129  192.168.0.92     57544            10            1            8   \n",
       "2130  192.168.0.92     57546            13            1           11   \n",
       "2131  192.168.0.92     57548            13            1           11   \n",
       "2132  192.168.0.92     57540            12            1           10   \n",
       "\n",
       "      c_ack_cnt_p:6  c_bytes_uniq:7  c_pkts_data:8  c_bytes_all:9  \\\n",
       "0                18            1848              6           1848   \n",
       "1                10            2125              9           2125   \n",
       "2                12            4361              9           4361   \n",
       "3                17            7120             13           7120   \n",
       "4                22            3061              9           3061   \n",
       "...             ...             ...            ...            ...   \n",
       "2128             26            2645             11           2645   \n",
       "2129              3            1354              4           1354   \n",
       "2130              6            1354              4           1354   \n",
       "2131              6            1354              4           1354   \n",
       "2132              3            1354              5           1897   \n",
       "\n",
       "      c_pkts_retx:10  ...  s_cwin_ini:95  s_pkts_rto:96  s_pkts_fs:97  \\\n",
       "0                  0  ...             99              0             0   \n",
       "1                  0  ...            392              0             0   \n",
       "2                  1  ...            392              0             0   \n",
       "3                  0  ...            392              0             0   \n",
       "4                  0  ...            392              0             0   \n",
       "...              ...  ...            ...            ...           ...   \n",
       "2128               0  ...            392              0             0   \n",
       "2129               0  ...            392              0             0   \n",
       "2130               0  ...           1448              0             0   \n",
       "2131               0  ...           2896              0             0   \n",
       "2132               2  ...            392              0             0   \n",
       "\n",
       "      s_pkts_reor:98 s_pkts_dup:99  s_pkts_unk:100  s_pkts_fc:101  \\\n",
       "0                  2             0               1              0   \n",
       "1                  0             0               0              0   \n",
       "2                  0             0               0              0   \n",
       "3                  0             0               1              0   \n",
       "4                  0             0               0              0   \n",
       "...              ...           ...             ...            ...   \n",
       "2128               0             0               0              0   \n",
       "2129               0             0               0              0   \n",
       "2130               1             0               0              0   \n",
       "2131               1             0               0              0   \n",
       "2132               0             0               0              0   \n",
       "\n",
       "      s_pkts_unrto:102  s_pkts_unfs:103  s_syn_retx:104  \n",
       "0                    0                0               0  \n",
       "1                    0                0               0  \n",
       "2                    0                0               0  \n",
       "3                    0                0               0  \n",
       "4                    0                0               0  \n",
       "...                ...              ...             ...  \n",
       "2128                 0                0               0  \n",
       "2129                 0                0               0  \n",
       "2130                 0                0               0  \n",
       "2131                 0                0               0  \n",
       "2132                 0                0               0  \n",
       "\n",
       "[2133 rows x 104 columns]"
      ]
     },
     "execution_count": 25,
     "metadata": {},
     "output_type": "execute_result"
    }
   ],
   "source": [
    "test_raw_df"
   ]
  },
  {
   "cell_type": "code",
   "execution_count": 26,
   "metadata": {},
   "outputs": [],
   "source": [
    "test_raw_df[\"s_ip:15\"] = test_raw_df[\"s_ip:15\"].apply(is_pool)"
   ]
  },
  {
   "cell_type": "code",
   "execution_count": 27,
   "metadata": {},
   "outputs": [],
   "source": [
    "test_raw_df_prooned = test_raw_df.drop([\"#09#c_ip:1\", \"c_port:2\", \"s_port:16\", 'c_pkts_ooo:12',\n",
    " 'c_isint:38', 's_isint:39', 'c_iscrypto:40', 's_iscrypto:41', 'p2p_t:43',\n",
    "  'c_ttl_min:50', 'c_ttl_max:51', 'c_f1323_opt:59', 'c_tm_opt:60',\n",
    "   'c_sack_opt:62', 'c_mss:64', 'c_win_0:69', 'c_pkts_reor:75',\n",
    "    'c_pkts_dup:76', 'c_pkts_fc:78', 'c_pkts_unrto:79',\n",
    "     'c_pkts_unfs:80', 'c_syn_retx:81', 's_pkts_fc:101',\n",
    "      's_pkts_unfs:103', 's_syn_retx:104'], axis=1)"
   ]
  },
  {
   "cell_type": "code",
   "execution_count": 28,
   "metadata": {},
   "outputs": [],
   "source": [
    "test_flow_df = test_raw_df_prooned.drop([\"s_ip:15\"], axis=1)\n",
    "test_labels = test_raw_df_prooned[\"s_ip:15\"].copy()"
   ]
  },
  {
   "cell_type": "code",
   "execution_count": 29,
   "metadata": {},
   "outputs": [],
   "source": [
    "test_flow_df = standardScaler.transform(test_flow_df)"
   ]
  },
  {
   "cell_type": "code",
   "execution_count": 30,
   "metadata": {},
   "outputs": [],
   "source": [
    "test_pred_labels = treeClassifier.predict(test_flow_df)"
   ]
  },
  {
   "cell_type": "code",
   "execution_count": 31,
   "metadata": {},
   "outputs": [
    {
     "data": {
      "text/plain": [
       "24"
      ]
     },
     "execution_count": 31,
     "metadata": {},
     "output_type": "execute_result"
    }
   ],
   "source": [
    "sum(test_labels)"
   ]
  },
  {
   "cell_type": "code",
   "execution_count": 32,
   "metadata": {},
   "outputs": [
    {
     "name": "stdout",
     "output_type": "stream",
     "text": [
      "Test Precision: 1.0\n",
      "Test Recall: 0.9583333333333334\n",
      "Test F1: 0.9787234042553191\n"
     ]
    }
   ],
   "source": [
    "print(\"Test Precision:\", precision_score(test_labels, test_pred_labels))\n",
    "print(\"Test Recall:\", recall_score(test_labels, test_pred_labels))\n",
    "print(\"Test F1:\", f1_score(test_labels, test_pred_labels))"
   ]
  },
  {
   "cell_type": "code",
   "execution_count": 33,
   "metadata": {},
   "outputs": [
    {
     "data": {
      "text/plain": [
       "array([[2109,    0],\n",
       "       [   1,   23]])"
      ]
     },
     "execution_count": 33,
     "metadata": {},
     "output_type": "execute_result"
    }
   ],
   "source": [
    "confusion_matrix(test_labels, test_pred_labels)"
   ]
  },
  {
   "cell_type": "code",
   "execution_count": 34,
   "metadata": {},
   "outputs": [],
   "source": [
    "randomforestClassifier = RandomForestClassifier(n_estimators=25)"
   ]
  },
  {
   "cell_type": "code",
   "execution_count": 35,
   "metadata": {},
   "outputs": [],
   "source": [
    "flow_pred_labels = cross_val_predict(randomforestClassifier, flow_df, labels, cv=10)"
   ]
  },
  {
   "cell_type": "code",
   "execution_count": 36,
   "metadata": {},
   "outputs": [
    {
     "data": {
      "text/plain": [
       "array([[10815,     5],\n",
       "       [    4,   198]])"
      ]
     },
     "execution_count": 36,
     "metadata": {},
     "output_type": "execute_result"
    }
   ],
   "source": [
    "confusion_matrix(labels, flow_pred_labels)"
   ]
  },
  {
   "cell_type": "code",
   "execution_count": 37,
   "metadata": {},
   "outputs": [
    {
     "name": "stdout",
     "output_type": "stream",
     "text": [
      "Precision: 0.9753694581280788\n",
      "Recall: 0.9801980198019802\n",
      "F1: 0.9777777777777779\n"
     ]
    }
   ],
   "source": [
    "print(\"Precision:\", precision_score(labels, flow_pred_labels))\n",
    "print(\"Recall:\", recall_score(labels, flow_pred_labels))\n",
    "print(\"F1:\", f1_score(labels, flow_pred_labels))"
   ]
  },
  {
   "cell_type": "code",
   "execution_count": 38,
   "metadata": {},
   "outputs": [
    {
     "data": {
      "text/html": [
       "<style>#sk-container-id-2 {color: black;background-color: white;}#sk-container-id-2 pre{padding: 0;}#sk-container-id-2 div.sk-toggleable {background-color: white;}#sk-container-id-2 label.sk-toggleable__label {cursor: pointer;display: block;width: 100%;margin-bottom: 0;padding: 0.3em;box-sizing: border-box;text-align: center;}#sk-container-id-2 label.sk-toggleable__label-arrow:before {content: \"▸\";float: left;margin-right: 0.25em;color: #696969;}#sk-container-id-2 label.sk-toggleable__label-arrow:hover:before {color: black;}#sk-container-id-2 div.sk-estimator:hover label.sk-toggleable__label-arrow:before {color: black;}#sk-container-id-2 div.sk-toggleable__content {max-height: 0;max-width: 0;overflow: hidden;text-align: left;background-color: #f0f8ff;}#sk-container-id-2 div.sk-toggleable__content pre {margin: 0.2em;color: black;border-radius: 0.25em;background-color: #f0f8ff;}#sk-container-id-2 input.sk-toggleable__control:checked~div.sk-toggleable__content {max-height: 200px;max-width: 100%;overflow: auto;}#sk-container-id-2 input.sk-toggleable__control:checked~label.sk-toggleable__label-arrow:before {content: \"▾\";}#sk-container-id-2 div.sk-estimator input.sk-toggleable__control:checked~label.sk-toggleable__label {background-color: #d4ebff;}#sk-container-id-2 div.sk-label input.sk-toggleable__control:checked~label.sk-toggleable__label {background-color: #d4ebff;}#sk-container-id-2 input.sk-hidden--visually {border: 0;clip: rect(1px 1px 1px 1px);clip: rect(1px, 1px, 1px, 1px);height: 1px;margin: -1px;overflow: hidden;padding: 0;position: absolute;width: 1px;}#sk-container-id-2 div.sk-estimator {font-family: monospace;background-color: #f0f8ff;border: 1px dotted black;border-radius: 0.25em;box-sizing: border-box;margin-bottom: 0.5em;}#sk-container-id-2 div.sk-estimator:hover {background-color: #d4ebff;}#sk-container-id-2 div.sk-parallel-item::after {content: \"\";width: 100%;border-bottom: 1px solid gray;flex-grow: 1;}#sk-container-id-2 div.sk-label:hover label.sk-toggleable__label {background-color: #d4ebff;}#sk-container-id-2 div.sk-serial::before {content: \"\";position: absolute;border-left: 1px solid gray;box-sizing: border-box;top: 0;bottom: 0;left: 50%;z-index: 0;}#sk-container-id-2 div.sk-serial {display: flex;flex-direction: column;align-items: center;background-color: white;padding-right: 0.2em;padding-left: 0.2em;position: relative;}#sk-container-id-2 div.sk-item {position: relative;z-index: 1;}#sk-container-id-2 div.sk-parallel {display: flex;align-items: stretch;justify-content: center;background-color: white;position: relative;}#sk-container-id-2 div.sk-item::before, #sk-container-id-2 div.sk-parallel-item::before {content: \"\";position: absolute;border-left: 1px solid gray;box-sizing: border-box;top: 0;bottom: 0;left: 50%;z-index: -1;}#sk-container-id-2 div.sk-parallel-item {display: flex;flex-direction: column;z-index: 1;position: relative;background-color: white;}#sk-container-id-2 div.sk-parallel-item:first-child::after {align-self: flex-end;width: 50%;}#sk-container-id-2 div.sk-parallel-item:last-child::after {align-self: flex-start;width: 50%;}#sk-container-id-2 div.sk-parallel-item:only-child::after {width: 0;}#sk-container-id-2 div.sk-dashed-wrapped {border: 1px dashed gray;margin: 0 0.4em 0.5em 0.4em;box-sizing: border-box;padding-bottom: 0.4em;background-color: white;}#sk-container-id-2 div.sk-label label {font-family: monospace;font-weight: bold;display: inline-block;line-height: 1.2em;}#sk-container-id-2 div.sk-label-container {text-align: center;}#sk-container-id-2 div.sk-container {/* jupyter's `normalize.less` sets `[hidden] { display: none; }` but bootstrap.min.css set `[hidden] { display: none !important; }` so we also need the `!important` here to be able to override the default hidden behavior on the sphinx rendered scikit-learn.org. See: https://github.com/scikit-learn/scikit-learn/issues/21755 */display: inline-block !important;position: relative;}#sk-container-id-2 div.sk-text-repr-fallback {display: none;}</style><div id=\"sk-container-id-2\" class=\"sk-top-container\"><div class=\"sk-text-repr-fallback\"><pre>RandomForestClassifier(n_estimators=25)</pre><b>In a Jupyter environment, please rerun this cell to show the HTML representation or trust the notebook. <br />On GitHub, the HTML representation is unable to render, please try loading this page with nbviewer.org.</b></div><div class=\"sk-container\" hidden><div class=\"sk-item\"><div class=\"sk-estimator sk-toggleable\"><input class=\"sk-toggleable__control sk-hidden--visually\" id=\"sk-estimator-id-2\" type=\"checkbox\" checked><label for=\"sk-estimator-id-2\" class=\"sk-toggleable__label sk-toggleable__label-arrow\">RandomForestClassifier</label><div class=\"sk-toggleable__content\"><pre>RandomForestClassifier(n_estimators=25)</pre></div></div></div></div></div>"
      ],
      "text/plain": [
       "RandomForestClassifier(n_estimators=25)"
      ]
     },
     "execution_count": 38,
     "metadata": {},
     "output_type": "execute_result"
    }
   ],
   "source": [
    "randomforestClassifier.fit(flow_df, labels)"
   ]
  },
  {
   "cell_type": "code",
   "execution_count": 39,
   "metadata": {},
   "outputs": [
    {
     "name": "stdout",
     "output_type": "stream",
     "text": [
      "Test Precision: 1.0\n",
      "Test Recall: 1.0\n",
      "Test F1: 1.0\n"
     ]
    }
   ],
   "source": [
    "test_pred_labels = randomforestClassifier.predict(test_flow_df)\n",
    "print(\"Test Precision:\", precision_score(test_labels, test_pred_labels))\n",
    "print(\"Test Recall:\", recall_score(test_labels, test_pred_labels))\n",
    "print(\"Test F1:\", f1_score(test_labels, test_pred_labels))"
   ]
  }
 ],
 "metadata": {
  "interpreter": {
   "hash": "31f2aee4e71d21fbe5cf8b01ff0e069b9275f58929596ceb00d14d90e3e16cd6"
  },
  "kernelspec": {
   "display_name": "Python 3.9.7 64-bit",
   "language": "python",
   "name": "python3"
  },
  "language_info": {
   "codemirror_mode": {
    "name": "ipython",
    "version": 3
   },
   "file_extension": ".py",
   "mimetype": "text/x-python",
   "name": "python",
   "nbconvert_exporter": "python",
   "pygments_lexer": "ipython3",
   "version": "3.9.7"
  },
  "orig_nbformat": 4
 },
 "nbformat": 4,
 "nbformat_minor": 2
}
