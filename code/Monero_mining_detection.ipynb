{
 "cells": [
  {
   "cell_type": "code",
   "execution_count": 34,
   "metadata": {},
   "outputs": [],
   "source": [
    "import numpy as np\n",
    "import pandas as pd\n",
    "import os\n",
    "%matplotlib inline\n",
    "import matplotlib.pyplot as plt\n",
    "from pandas.plotting import scatter_matrix\n",
    "from sklearn.preprocessing import StandardScaler\n",
    "from sklearn.metrics import mean_squared_error\n",
    "from sklearn.tree import DecisionTreeClassifier\n",
    "from sklearn.ensemble import RandomForestClassifier\n",
    "from sklearn.model_selection import cross_val_score\n",
    "from sklearn.model_selection import cross_val_predict\n",
    "from sklearn.metrics import confusion_matrix\n",
    "from sklearn.metrics import precision_score, recall_score, f1_score\n"
   ]
  },
  {
   "cell_type": "code",
   "execution_count": 35,
   "metadata": {},
   "outputs": [],
   "source": [
    "dataDir = \"../data generation/Tstat/stdin/\"\n",
    "datafile = \"/log_tcp_complete\"\n",
    "poolIPsFile = \"../poolIP.txt\""
   ]
  },
  {
   "cell_type": "code",
   "execution_count": 36,
   "metadata": {},
   "outputs": [],
   "source": [
    "## Aggregate Data\n",
    "raw_df = pd.DataFrame()\n",
    "for datafolder in sorted(os.listdir(dataDir)):\n",
    "    if datafolder > '2022_05_15_08_54.out':\n",
    "        break\n",
    "    dataPointFile = dataDir + datafolder + datafile\n",
    "    raw_df = pd.concat([raw_df, pd.read_csv(dataPointFile, sep = ' ')])"
   ]
  },
  {
   "cell_type": "code",
   "execution_count": 37,
   "metadata": {},
   "outputs": [],
   "source": [
    "raw_df = raw_df.reset_index(drop=True)"
   ]
  },
  {
   "cell_type": "code",
   "execution_count": 38,
   "metadata": {},
   "outputs": [
    {
     "data": {
      "text/html": [
       "<div>\n",
       "<style scoped>\n",
       "    .dataframe tbody tr th:only-of-type {\n",
       "        vertical-align: middle;\n",
       "    }\n",
       "\n",
       "    .dataframe tbody tr th {\n",
       "        vertical-align: top;\n",
       "    }\n",
       "\n",
       "    .dataframe thead th {\n",
       "        text-align: right;\n",
       "    }\n",
       "</style>\n",
       "<table border=\"1\" class=\"dataframe\">\n",
       "  <thead>\n",
       "    <tr style=\"text-align: right;\">\n",
       "      <th></th>\n",
       "      <th>#09#c_ip:1</th>\n",
       "      <th>c_port:2</th>\n",
       "      <th>c_pkts_all:3</th>\n",
       "      <th>c_rst_cnt:4</th>\n",
       "      <th>c_ack_cnt:5</th>\n",
       "      <th>c_ack_cnt_p:6</th>\n",
       "      <th>c_bytes_uniq:7</th>\n",
       "      <th>c_pkts_data:8</th>\n",
       "      <th>c_bytes_all:9</th>\n",
       "      <th>c_pkts_retx:10</th>\n",
       "      <th>...</th>\n",
       "      <th>s_cwin_ini:95</th>\n",
       "      <th>s_pkts_rto:96</th>\n",
       "      <th>s_pkts_fs:97</th>\n",
       "      <th>s_pkts_reor:98</th>\n",
       "      <th>s_pkts_dup:99</th>\n",
       "      <th>s_pkts_unk:100</th>\n",
       "      <th>s_pkts_fc:101</th>\n",
       "      <th>s_pkts_unrto:102</th>\n",
       "      <th>s_pkts_unfs:103</th>\n",
       "      <th>s_syn_retx:104</th>\n",
       "    </tr>\n",
       "  </thead>\n",
       "  <tbody>\n",
       "    <tr>\n",
       "      <th>0</th>\n",
       "      <td>192.168.0.92</td>\n",
       "      <td>43432</td>\n",
       "      <td>12</td>\n",
       "      <td>0</td>\n",
       "      <td>11</td>\n",
       "      <td>5</td>\n",
       "      <td>2473</td>\n",
       "      <td>5</td>\n",
       "      <td>2473</td>\n",
       "      <td>0</td>\n",
       "      <td>...</td>\n",
       "      <td>1460</td>\n",
       "      <td>0</td>\n",
       "      <td>0</td>\n",
       "      <td>1</td>\n",
       "      <td>0</td>\n",
       "      <td>0</td>\n",
       "      <td>0</td>\n",
       "      <td>0</td>\n",
       "      <td>0</td>\n",
       "      <td>0</td>\n",
       "    </tr>\n",
       "    <tr>\n",
       "      <th>1</th>\n",
       "      <td>192.168.0.92</td>\n",
       "      <td>43434</td>\n",
       "      <td>12</td>\n",
       "      <td>0</td>\n",
       "      <td>11</td>\n",
       "      <td>5</td>\n",
       "      <td>2595</td>\n",
       "      <td>5</td>\n",
       "      <td>2595</td>\n",
       "      <td>0</td>\n",
       "      <td>...</td>\n",
       "      <td>1460</td>\n",
       "      <td>0</td>\n",
       "      <td>0</td>\n",
       "      <td>1</td>\n",
       "      <td>0</td>\n",
       "      <td>0</td>\n",
       "      <td>0</td>\n",
       "      <td>0</td>\n",
       "      <td>0</td>\n",
       "      <td>0</td>\n",
       "    </tr>\n",
       "    <tr>\n",
       "      <th>2</th>\n",
       "      <td>192.168.0.92</td>\n",
       "      <td>45634</td>\n",
       "      <td>16</td>\n",
       "      <td>0</td>\n",
       "      <td>15</td>\n",
       "      <td>7</td>\n",
       "      <td>2999</td>\n",
       "      <td>7</td>\n",
       "      <td>5292</td>\n",
       "      <td>2</td>\n",
       "      <td>...</td>\n",
       "      <td>2920</td>\n",
       "      <td>0</td>\n",
       "      <td>0</td>\n",
       "      <td>1</td>\n",
       "      <td>0</td>\n",
       "      <td>2</td>\n",
       "      <td>0</td>\n",
       "      <td>0</td>\n",
       "      <td>0</td>\n",
       "      <td>0</td>\n",
       "    </tr>\n",
       "    <tr>\n",
       "      <th>3</th>\n",
       "      <td>192.168.0.92</td>\n",
       "      <td>45636</td>\n",
       "      <td>12</td>\n",
       "      <td>0</td>\n",
       "      <td>11</td>\n",
       "      <td>5</td>\n",
       "      <td>2765</td>\n",
       "      <td>5</td>\n",
       "      <td>2765</td>\n",
       "      <td>0</td>\n",
       "      <td>...</td>\n",
       "      <td>4435</td>\n",
       "      <td>0</td>\n",
       "      <td>0</td>\n",
       "      <td>1</td>\n",
       "      <td>0</td>\n",
       "      <td>1</td>\n",
       "      <td>0</td>\n",
       "      <td>0</td>\n",
       "      <td>0</td>\n",
       "      <td>0</td>\n",
       "    </tr>\n",
       "    <tr>\n",
       "      <th>4</th>\n",
       "      <td>192.168.0.92</td>\n",
       "      <td>47230</td>\n",
       "      <td>10</td>\n",
       "      <td>0</td>\n",
       "      <td>9</td>\n",
       "      <td>6</td>\n",
       "      <td>675</td>\n",
       "      <td>2</td>\n",
       "      <td>675</td>\n",
       "      <td>0</td>\n",
       "      <td>...</td>\n",
       "      <td>2920</td>\n",
       "      <td>0</td>\n",
       "      <td>0</td>\n",
       "      <td>1</td>\n",
       "      <td>0</td>\n",
       "      <td>0</td>\n",
       "      <td>0</td>\n",
       "      <td>0</td>\n",
       "      <td>0</td>\n",
       "      <td>0</td>\n",
       "    </tr>\n",
       "    <tr>\n",
       "      <th>...</th>\n",
       "      <td>...</td>\n",
       "      <td>...</td>\n",
       "      <td>...</td>\n",
       "      <td>...</td>\n",
       "      <td>...</td>\n",
       "      <td>...</td>\n",
       "      <td>...</td>\n",
       "      <td>...</td>\n",
       "      <td>...</td>\n",
       "      <td>...</td>\n",
       "      <td>...</td>\n",
       "      <td>...</td>\n",
       "      <td>...</td>\n",
       "      <td>...</td>\n",
       "      <td>...</td>\n",
       "      <td>...</td>\n",
       "      <td>...</td>\n",
       "      <td>...</td>\n",
       "      <td>...</td>\n",
       "      <td>...</td>\n",
       "      <td>...</td>\n",
       "    </tr>\n",
       "    <tr>\n",
       "      <th>6550</th>\n",
       "      <td>192.168.0.92</td>\n",
       "      <td>36570</td>\n",
       "      <td>21</td>\n",
       "      <td>1</td>\n",
       "      <td>19</td>\n",
       "      <td>14</td>\n",
       "      <td>518</td>\n",
       "      <td>4</td>\n",
       "      <td>518</td>\n",
       "      <td>0</td>\n",
       "      <td>...</td>\n",
       "      <td>2964</td>\n",
       "      <td>0</td>\n",
       "      <td>0</td>\n",
       "      <td>1</td>\n",
       "      <td>0</td>\n",
       "      <td>3</td>\n",
       "      <td>0</td>\n",
       "      <td>0</td>\n",
       "      <td>0</td>\n",
       "      <td>0</td>\n",
       "    </tr>\n",
       "    <tr>\n",
       "      <th>6551</th>\n",
       "      <td>192.168.0.92</td>\n",
       "      <td>58854</td>\n",
       "      <td>14</td>\n",
       "      <td>0</td>\n",
       "      <td>13</td>\n",
       "      <td>7</td>\n",
       "      <td>1442</td>\n",
       "      <td>5</td>\n",
       "      <td>1442</td>\n",
       "      <td>0</td>\n",
       "      <td>...</td>\n",
       "      <td>392</td>\n",
       "      <td>0</td>\n",
       "      <td>0</td>\n",
       "      <td>0</td>\n",
       "      <td>0</td>\n",
       "      <td>0</td>\n",
       "      <td>0</td>\n",
       "      <td>0</td>\n",
       "      <td>0</td>\n",
       "      <td>0</td>\n",
       "    </tr>\n",
       "    <tr>\n",
       "      <th>6552</th>\n",
       "      <td>192.168.0.92</td>\n",
       "      <td>58858</td>\n",
       "      <td>5</td>\n",
       "      <td>1</td>\n",
       "      <td>3</td>\n",
       "      <td>1</td>\n",
       "      <td>517</td>\n",
       "      <td>1</td>\n",
       "      <td>517</td>\n",
       "      <td>0</td>\n",
       "      <td>...</td>\n",
       "      <td>392</td>\n",
       "      <td>0</td>\n",
       "      <td>0</td>\n",
       "      <td>0</td>\n",
       "      <td>0</td>\n",
       "      <td>0</td>\n",
       "      <td>0</td>\n",
       "      <td>0</td>\n",
       "      <td>0</td>\n",
       "      <td>0</td>\n",
       "    </tr>\n",
       "    <tr>\n",
       "      <th>6553</th>\n",
       "      <td>192.168.0.92</td>\n",
       "      <td>39112</td>\n",
       "      <td>10</td>\n",
       "      <td>0</td>\n",
       "      <td>9</td>\n",
       "      <td>4</td>\n",
       "      <td>2292</td>\n",
       "      <td>4</td>\n",
       "      <td>2292</td>\n",
       "      <td>0</td>\n",
       "      <td>...</td>\n",
       "      <td>5722</td>\n",
       "      <td>0</td>\n",
       "      <td>0</td>\n",
       "      <td>0</td>\n",
       "      <td>0</td>\n",
       "      <td>0</td>\n",
       "      <td>0</td>\n",
       "      <td>0</td>\n",
       "      <td>0</td>\n",
       "      <td>0</td>\n",
       "    </tr>\n",
       "    <tr>\n",
       "      <th>6554</th>\n",
       "      <td>192.168.0.92</td>\n",
       "      <td>58810</td>\n",
       "      <td>83</td>\n",
       "      <td>1</td>\n",
       "      <td>81</td>\n",
       "      <td>55</td>\n",
       "      <td>5512</td>\n",
       "      <td>25</td>\n",
       "      <td>5573</td>\n",
       "      <td>1</td>\n",
       "      <td>...</td>\n",
       "      <td>392</td>\n",
       "      <td>0</td>\n",
       "      <td>0</td>\n",
       "      <td>4</td>\n",
       "      <td>0</td>\n",
       "      <td>0</td>\n",
       "      <td>0</td>\n",
       "      <td>0</td>\n",
       "      <td>0</td>\n",
       "      <td>0</td>\n",
       "    </tr>\n",
       "  </tbody>\n",
       "</table>\n",
       "<p>6555 rows × 104 columns</p>\n",
       "</div>"
      ],
      "text/plain": [
       "        #09#c_ip:1  c_port:2  c_pkts_all:3  c_rst_cnt:4  c_ack_cnt:5  \\\n",
       "0     192.168.0.92     43432            12            0           11   \n",
       "1     192.168.0.92     43434            12            0           11   \n",
       "2     192.168.0.92     45634            16            0           15   \n",
       "3     192.168.0.92     45636            12            0           11   \n",
       "4     192.168.0.92     47230            10            0            9   \n",
       "...            ...       ...           ...          ...          ...   \n",
       "6550  192.168.0.92     36570            21            1           19   \n",
       "6551  192.168.0.92     58854            14            0           13   \n",
       "6552  192.168.0.92     58858             5            1            3   \n",
       "6553  192.168.0.92     39112            10            0            9   \n",
       "6554  192.168.0.92     58810            83            1           81   \n",
       "\n",
       "      c_ack_cnt_p:6  c_bytes_uniq:7  c_pkts_data:8  c_bytes_all:9  \\\n",
       "0                 5            2473              5           2473   \n",
       "1                 5            2595              5           2595   \n",
       "2                 7            2999              7           5292   \n",
       "3                 5            2765              5           2765   \n",
       "4                 6             675              2            675   \n",
       "...             ...             ...            ...            ...   \n",
       "6550             14             518              4            518   \n",
       "6551              7            1442              5           1442   \n",
       "6552              1             517              1            517   \n",
       "6553              4            2292              4           2292   \n",
       "6554             55            5512             25           5573   \n",
       "\n",
       "      c_pkts_retx:10  ...  s_cwin_ini:95  s_pkts_rto:96  s_pkts_fs:97  \\\n",
       "0                  0  ...           1460              0             0   \n",
       "1                  0  ...           1460              0             0   \n",
       "2                  2  ...           2920              0             0   \n",
       "3                  0  ...           4435              0             0   \n",
       "4                  0  ...           2920              0             0   \n",
       "...              ...  ...            ...            ...           ...   \n",
       "6550               0  ...           2964              0             0   \n",
       "6551               0  ...            392              0             0   \n",
       "6552               0  ...            392              0             0   \n",
       "6553               0  ...           5722              0             0   \n",
       "6554               1  ...            392              0             0   \n",
       "\n",
       "      s_pkts_reor:98 s_pkts_dup:99  s_pkts_unk:100  s_pkts_fc:101  \\\n",
       "0                  1             0               0              0   \n",
       "1                  1             0               0              0   \n",
       "2                  1             0               2              0   \n",
       "3                  1             0               1              0   \n",
       "4                  1             0               0              0   \n",
       "...              ...           ...             ...            ...   \n",
       "6550               1             0               3              0   \n",
       "6551               0             0               0              0   \n",
       "6552               0             0               0              0   \n",
       "6553               0             0               0              0   \n",
       "6554               4             0               0              0   \n",
       "\n",
       "      s_pkts_unrto:102  s_pkts_unfs:103  s_syn_retx:104  \n",
       "0                    0                0               0  \n",
       "1                    0                0               0  \n",
       "2                    0                0               0  \n",
       "3                    0                0               0  \n",
       "4                    0                0               0  \n",
       "...                ...              ...             ...  \n",
       "6550                 0                0               0  \n",
       "6551                 0                0               0  \n",
       "6552                 0                0               0  \n",
       "6553                 0                0               0  \n",
       "6554                 0                0               0  \n",
       "\n",
       "[6555 rows x 104 columns]"
      ]
     },
     "execution_count": 38,
     "metadata": {},
     "output_type": "execute_result"
    }
   ],
   "source": [
    "raw_df"
   ]
  },
  {
   "cell_type": "code",
   "execution_count": 39,
   "metadata": {},
   "outputs": [
    {
     "name": "stdout",
     "output_type": "stream",
     "text": [
      "<class 'pandas.core.frame.DataFrame'>\n",
      "RangeIndex: 6555 entries, 0 to 6554\n",
      "Columns: 104 entries, #09#c_ip:1 to s_syn_retx:104\n",
      "dtypes: float64(17), int64(85), object(2)\n",
      "memory usage: 5.2+ MB\n"
     ]
    }
   ],
   "source": [
    "raw_df.info()"
   ]
  },
  {
   "cell_type": "code",
   "execution_count": 40,
   "metadata": {},
   "outputs": [
    {
     "name": "stdout",
     "output_type": "stream",
     "text": [
      "['#09#c_ip:1', 'c_port:2', 'c_pkts_all:3', 'c_rst_cnt:4', 'c_ack_cnt:5', 'c_ack_cnt_p:6', 'c_bytes_uniq:7', 'c_pkts_data:8', 'c_bytes_all:9', 'c_pkts_retx:10', 'c_bytes_retx:11', 'c_pkts_ooo:12', 'c_syn_cnt:13', 'c_fin_cnt:14', 's_ip:15', 's_port:16', 's_pkts_all:17', 's_rst_cnt:18', 's_ack_cnt:19', 's_ack_cnt_p:20', 's_bytes_uniq:21', 's_pkts_data:22', 's_bytes_all:23', 's_pkts_retx:24', 's_bytes_retx:25', 's_pkts_ooo:26', 's_syn_cnt:27', 's_fin_cnt:28', 'first:29', 'last:30', 'durat:31', 'c_first:32', 's_first:33', 'c_last:34', 's_last:35', 'c_first_ack:36', 's_first_ack:37', 'c_isint:38', 's_isint:39', 'c_iscrypto:40', 's_iscrypto:41', 'con_t:42', 'p2p_t:43', 'http_t:44', 'c_rtt_avg:45', 'c_rtt_min:46', 'c_rtt_max:47', 'c_rtt_std:48', 'c_rtt_cnt:49', 'c_ttl_min:50', 'c_ttl_max:51', 's_rtt_avg:52', 's_rtt_min:53', 's_rtt_max:54', 's_rtt_std:55', 's_rtt_cnt:56', 's_ttl_min:57', 's_ttl_max:58', 'c_f1323_opt:59', 'c_tm_opt:60', 'c_win_scl:61', 'c_sack_opt:62', 'c_sack_cnt:63', 'c_mss:64', 'c_mss_max:65', 'c_mss_min:66', 'c_win_max:67', 'c_win_min:68', 'c_win_0:69', 'c_cwin_max:70', 'c_cwin_min:71', 'c_cwin_ini:72', 'c_pkts_rto:73', 'c_pkts_fs:74', 'c_pkts_reor:75', 'c_pkts_dup:76', 'c_pkts_unk:77', 'c_pkts_fc:78', 'c_pkts_unrto:79', 'c_pkts_unfs:80', 'c_syn_retx:81', 's_f1323_opt:82', 's_tm_opt:83', 's_win_scl:84', 's_sack_opt:85', 's_sack_cnt:86', 's_mss:87', 's_mss_max:88', 's_mss_min:89', 's_win_max:90', 's_win_min:91', 's_win_0:92', 's_cwin_max:93', 's_cwin_min:94', 's_cwin_ini:95', 's_pkts_rto:96', 's_pkts_fs:97', 's_pkts_reor:98', 's_pkts_dup:99', 's_pkts_unk:100', 's_pkts_fc:101', 's_pkts_unrto:102', 's_pkts_unfs:103', 's_syn_retx:104']\n"
     ]
    }
   ],
   "source": [
    "print(raw_df.columns.tolist())"
   ]
  },
  {
   "cell_type": "code",
   "execution_count": 41,
   "metadata": {},
   "outputs": [
    {
     "name": "stdout",
     "output_type": "stream",
     "text": [
      "['178.32.120.127', '51.254.84.37', '51.68.21.186', '94.130.165.85', '94.130.164.163', '94.130.165.87', '94.130.164.163', '178.32.120.127', '94.130.164.163', '136.243.49.177', '51.68.21.186', '94.130.164.163', '136.243.49.177', '136.243.49.177', '94.130.164.163', '51.68.21.188', '178.32.120.127', '51.254.84.37', '51.254.84.37', '94.130.165.85', '51.68.21.188', '51.68.21.186', '94.130.165.85', '136.243.49.177', '51.254.84.37', '51.254.84.37', '94.130.165.87', '178.32.120.127', '136.243.49.177', '178.32.120.127', '178.32.120.127', '51.68.21.186', '51.254.84.37', '94.130.164.163', '51.68.21.186', '94.130.164.163', '94.130.164.163', '51.68.21.188', '51.68.21.188', '178.32.120.127', '51.68.21.186', '51.68.21.188', '51.68.21.188', '51.254.84.37', '51.254.84.37', '51.68.21.186', '51.68.21.188', '51.68.21.186', '51.254.84.37', '51.68.21.186', '51.254.84.37', '178.32.120.127', '178.32.120.127', '94.130.164.163', '136.243.49.177', '178.32.120.127', '51.254.84.37', '51.68.21.186', '51.254.84.37', '178.32.120.127', '51.68.21.186', '178.32.120.127', '51.68.21.188', '94.130.165.85', '94.130.165.87', '94.130.164.163', '51.68.21.188', '51.68.21.186', '94.130.165.85', '51.68.21.188', '136.243.49.177', '178.32.120.127', '94.130.164.163', '51.68.21.188', '136.243.49.177', '178.32.120.127', '94.130.165.85', '51.68.21.186', '94.130.165.87', '51.68.21.186', '136.243.49.177', '94.130.165.87', '94.130.164.163', '94.130.165.85', '94.130.164.163', '94.130.165.85', '178.32.120.127', '94.130.164.163', '136.243.49.177', '94.130.164.163', '178.32.120.127', '51.68.21.186', '51.254.84.37', '94.130.164.163', '178.32.120.127', '94.130.165.85', '51.68.21.186', '94.130.165.87', '94.130.164.163', '178.32.120.127', '94.130.165.85', '94.130.165.87', '51.68.21.188', '94.130.165.85', '94.130.164.163', '94.130.165.87', '94.130.165.87', '51.68.21.188', '51.68.21.186', '94.130.165.87', '94.130.164.163', '51.68.21.188', '94.130.165.85', '51.68.21.188', '51.68.21.188', '51.254.84.37', '178.32.120.127', '178.32.120.127', '94.130.164.163']\n"
     ]
    }
   ],
   "source": [
    "f = open(dataDir + poolIPsFile, 'r')\n",
    "poolIPs = f.read().splitlines()\n",
    "print(poolIPs)"
   ]
  },
  {
   "cell_type": "code",
   "execution_count": 42,
   "metadata": {},
   "outputs": [],
   "source": [
    "def is_pool(x):\n",
    "    return 1 if x in poolIPs else 0\n",
    "\n",
    "raw_df[\"s_ip:15\"] = raw_df[\"s_ip:15\"].apply(is_pool)"
   ]
  },
  {
   "cell_type": "code",
   "execution_count": 43,
   "metadata": {},
   "outputs": [
    {
     "name": "stdout",
     "output_type": "stream",
     "text": [
      "positive labels:  124\n"
     ]
    }
   ],
   "source": [
    "print(\"positive labels: \", sum(raw_df[\"s_ip:15\"]))"
   ]
  },
  {
   "cell_type": "code",
   "execution_count": 44,
   "metadata": {},
   "outputs": [],
   "source": [
    "corr_matrix = raw_df.corr()"
   ]
  },
  {
   "cell_type": "code",
   "execution_count": 45,
   "metadata": {},
   "outputs": [
    {
     "name": "stdout",
     "output_type": "stream",
     "text": [
      "s_ip:15            1.000000\n",
      "c_rst_cnt:4        0.360275\n",
      "c_mss_min:66       0.223604\n",
      "c_cwin_min:71      0.219285\n",
      "s_win_min:91       0.109067\n",
      "                     ...   \n",
      "c_pkts_unfs:80          NaN\n",
      "c_syn_retx:81           NaN\n",
      "s_pkts_fc:101           NaN\n",
      "s_pkts_unfs:103         NaN\n",
      "s_syn_retx:104          NaN\n",
      "Name: s_ip:15, Length: 103, dtype: float64\n"
     ]
    }
   ],
   "source": [
    "print(corr_matrix[\"s_ip:15\"].sort_values(ascending=False))"
   ]
  },
  {
   "cell_type": "code",
   "execution_count": 46,
   "metadata": {},
   "outputs": [],
   "source": [
    "raw_df_prooned = raw_df.drop([\"#09#c_ip:1\", \"c_port:2\", \"s_port:16\", 'c_pkts_ooo:12',\n",
    " 'c_isint:38', 's_isint:39', 'c_iscrypto:40', 's_iscrypto:41', 'p2p_t:43',\n",
    "  'c_ttl_min:50', 'c_ttl_max:51', 'c_f1323_opt:59', 'c_tm_opt:60',\n",
    "   'c_sack_opt:62', 'c_mss:64', 'c_win_0:69', 'c_pkts_reor:75',\n",
    "    'c_pkts_dup:76', 'c_pkts_fc:78', 'c_pkts_unrto:79',\n",
    "     'c_pkts_unfs:80', 'c_syn_retx:81', 's_pkts_fc:101',\n",
    "      's_pkts_unfs:103', 's_syn_retx:104'], axis=1)"
   ]
  },
  {
   "cell_type": "code",
   "execution_count": 47,
   "metadata": {},
   "outputs": [
    {
     "data": {
      "text/plain": [
       "Index(['c_pkts_all:3', 'c_rst_cnt:4', 'c_ack_cnt:5', 'c_ack_cnt_p:6',\n",
       "       'c_bytes_uniq:7', 'c_pkts_data:8', 'c_bytes_all:9', 'c_pkts_retx:10',\n",
       "       'c_bytes_retx:11', 'c_syn_cnt:13', 'c_fin_cnt:14', 's_ip:15',\n",
       "       's_pkts_all:17', 's_rst_cnt:18', 's_ack_cnt:19', 's_ack_cnt_p:20',\n",
       "       's_bytes_uniq:21', 's_pkts_data:22', 's_bytes_all:23', 's_pkts_retx:24',\n",
       "       's_bytes_retx:25', 's_pkts_ooo:26', 's_syn_cnt:27', 's_fin_cnt:28',\n",
       "       'first:29', 'last:30', 'durat:31', 'c_first:32', 's_first:33',\n",
       "       'c_last:34', 's_last:35', 'c_first_ack:36', 's_first_ack:37',\n",
       "       'con_t:42', 'http_t:44', 'c_rtt_avg:45', 'c_rtt_min:46', 'c_rtt_max:47',\n",
       "       'c_rtt_std:48', 'c_rtt_cnt:49', 's_rtt_avg:52', 's_rtt_min:53',\n",
       "       's_rtt_max:54', 's_rtt_std:55', 's_rtt_cnt:56', 's_ttl_min:57',\n",
       "       's_ttl_max:58', 'c_win_scl:61', 'c_sack_cnt:63', 'c_mss_max:65',\n",
       "       'c_mss_min:66', 'c_win_max:67', 'c_win_min:68', 'c_cwin_max:70',\n",
       "       'c_cwin_min:71', 'c_cwin_ini:72', 'c_pkts_rto:73', 'c_pkts_fs:74',\n",
       "       'c_pkts_unk:77', 's_f1323_opt:82', 's_tm_opt:83', 's_win_scl:84',\n",
       "       's_sack_opt:85', 's_sack_cnt:86', 's_mss:87', 's_mss_max:88',\n",
       "       's_mss_min:89', 's_win_max:90', 's_win_min:91', 's_win_0:92',\n",
       "       's_cwin_max:93', 's_cwin_min:94', 's_cwin_ini:95', 's_pkts_rto:96',\n",
       "       's_pkts_fs:97', 's_pkts_reor:98', 's_pkts_dup:99', 's_pkts_unk:100',\n",
       "       's_pkts_unrto:102'],\n",
       "      dtype='object')"
      ]
     },
     "execution_count": 47,
     "metadata": {},
     "output_type": "execute_result"
    }
   ],
   "source": [
    "raw_df_prooned.columns"
   ]
  },
  {
   "cell_type": "code",
   "execution_count": 48,
   "metadata": {},
   "outputs": [],
   "source": [
    "flow_df = raw_df_prooned.drop([\"s_ip:15\"], axis=1)\n",
    "labels = raw_df_prooned[\"s_ip:15\"].copy()"
   ]
  },
  {
   "cell_type": "code",
   "execution_count": 49,
   "metadata": {},
   "outputs": [
    {
     "name": "stdout",
     "output_type": "stream",
     "text": [
      "<class 'pandas.core.frame.DataFrame'>\n",
      "RangeIndex: 6555 entries, 0 to 6554\n",
      "Data columns (total 78 columns):\n",
      " #   Column            Non-Null Count  Dtype  \n",
      "---  ------            --------------  -----  \n",
      " 0   c_pkts_all:3      6555 non-null   int64  \n",
      " 1   c_rst_cnt:4       6555 non-null   int64  \n",
      " 2   c_ack_cnt:5       6555 non-null   int64  \n",
      " 3   c_ack_cnt_p:6     6555 non-null   int64  \n",
      " 4   c_bytes_uniq:7    6555 non-null   int64  \n",
      " 5   c_pkts_data:8     6555 non-null   int64  \n",
      " 6   c_bytes_all:9     6555 non-null   int64  \n",
      " 7   c_pkts_retx:10    6555 non-null   int64  \n",
      " 8   c_bytes_retx:11   6555 non-null   int64  \n",
      " 9   c_syn_cnt:13      6555 non-null   int64  \n",
      " 10  c_fin_cnt:14      6555 non-null   int64  \n",
      " 11  s_pkts_all:17     6555 non-null   int64  \n",
      " 12  s_rst_cnt:18      6555 non-null   int64  \n",
      " 13  s_ack_cnt:19      6555 non-null   int64  \n",
      " 14  s_ack_cnt_p:20    6555 non-null   int64  \n",
      " 15  s_bytes_uniq:21   6555 non-null   int64  \n",
      " 16  s_pkts_data:22    6555 non-null   int64  \n",
      " 17  s_bytes_all:23    6555 non-null   int64  \n",
      " 18  s_pkts_retx:24    6555 non-null   int64  \n",
      " 19  s_bytes_retx:25   6555 non-null   int64  \n",
      " 20  s_pkts_ooo:26     6555 non-null   int64  \n",
      " 21  s_syn_cnt:27      6555 non-null   int64  \n",
      " 22  s_fin_cnt:28      6555 non-null   int64  \n",
      " 23  first:29          6555 non-null   float64\n",
      " 24  last:30           6555 non-null   float64\n",
      " 25  durat:31          6555 non-null   float64\n",
      " 26  c_first:32        6555 non-null   float64\n",
      " 27  s_first:33        6555 non-null   float64\n",
      " 28  c_last:34         6555 non-null   float64\n",
      " 29  s_last:35         6555 non-null   float64\n",
      " 30  c_first_ack:36    6555 non-null   float64\n",
      " 31  s_first_ack:37    6555 non-null   float64\n",
      " 32  con_t:42          6555 non-null   int64  \n",
      " 33  http_t:44         6555 non-null   int64  \n",
      " 34  c_rtt_avg:45      6555 non-null   float64\n",
      " 35  c_rtt_min:46      6555 non-null   float64\n",
      " 36  c_rtt_max:47      6555 non-null   float64\n",
      " 37  c_rtt_std:48      6555 non-null   float64\n",
      " 38  c_rtt_cnt:49      6555 non-null   int64  \n",
      " 39  s_rtt_avg:52      6555 non-null   float64\n",
      " 40  s_rtt_min:53      6555 non-null   float64\n",
      " 41  s_rtt_max:54      6555 non-null   float64\n",
      " 42  s_rtt_std:55      6555 non-null   float64\n",
      " 43  s_rtt_cnt:56      6555 non-null   int64  \n",
      " 44  s_ttl_min:57      6555 non-null   int64  \n",
      " 45  s_ttl_max:58      6555 non-null   int64  \n",
      " 46  c_win_scl:61      6555 non-null   int64  \n",
      " 47  c_sack_cnt:63     6555 non-null   int64  \n",
      " 48  c_mss_max:65      6555 non-null   int64  \n",
      " 49  c_mss_min:66      6555 non-null   int64  \n",
      " 50  c_win_max:67      6555 non-null   int64  \n",
      " 51  c_win_min:68      6555 non-null   int64  \n",
      " 52  c_cwin_max:70     6555 non-null   int64  \n",
      " 53  c_cwin_min:71     6555 non-null   int64  \n",
      " 54  c_cwin_ini:72     6555 non-null   int64  \n",
      " 55  c_pkts_rto:73     6555 non-null   int64  \n",
      " 56  c_pkts_fs:74      6555 non-null   int64  \n",
      " 57  c_pkts_unk:77     6555 non-null   int64  \n",
      " 58  s_f1323_opt:82    6555 non-null   int64  \n",
      " 59  s_tm_opt:83       6555 non-null   int64  \n",
      " 60  s_win_scl:84      6555 non-null   int64  \n",
      " 61  s_sack_opt:85     6555 non-null   int64  \n",
      " 62  s_sack_cnt:86     6555 non-null   int64  \n",
      " 63  s_mss:87          6555 non-null   int64  \n",
      " 64  s_mss_max:88      6555 non-null   int64  \n",
      " 65  s_mss_min:89      6555 non-null   int64  \n",
      " 66  s_win_max:90      6555 non-null   int64  \n",
      " 67  s_win_min:91      6555 non-null   int64  \n",
      " 68  s_win_0:92        6555 non-null   int64  \n",
      " 69  s_cwin_max:93     6555 non-null   int64  \n",
      " 70  s_cwin_min:94     6555 non-null   int64  \n",
      " 71  s_cwin_ini:95     6555 non-null   int64  \n",
      " 72  s_pkts_rto:96     6555 non-null   int64  \n",
      " 73  s_pkts_fs:97      6555 non-null   int64  \n",
      " 74  s_pkts_reor:98    6555 non-null   int64  \n",
      " 75  s_pkts_dup:99     6555 non-null   int64  \n",
      " 76  s_pkts_unk:100    6555 non-null   int64  \n",
      " 77  s_pkts_unrto:102  6555 non-null   int64  \n",
      "dtypes: float64(17), int64(61)\n",
      "memory usage: 3.9 MB\n"
     ]
    }
   ],
   "source": [
    "flow_df.info()"
   ]
  },
  {
   "cell_type": "code",
   "execution_count": 50,
   "metadata": {},
   "outputs": [],
   "source": [
    "standardScaler = StandardScaler()\n",
    "flow_df = standardScaler.fit_transform(flow_df)"
   ]
  },
  {
   "cell_type": "code",
   "execution_count": 51,
   "metadata": {},
   "outputs": [],
   "source": [
    "treeClassifier = DecisionTreeClassifier()"
   ]
  },
  {
   "cell_type": "code",
   "execution_count": 52,
   "metadata": {},
   "outputs": [],
   "source": [
    "# scores = cross_val_score(treeClassifier, flow_df, labels, scoring=\"neg_mean_squared_error\", cv=10)\n",
    "# tree_rmse_scores = np.sqrt(-scores)\n",
    "flow_pred_labels = cross_val_predict(treeClassifier, flow_df, labels, cv=10)"
   ]
  },
  {
   "cell_type": "code",
   "execution_count": 53,
   "metadata": {},
   "outputs": [
    {
     "data": {
      "text/plain": [
       "array([[6385,   46],\n",
       "       [   7,  117]])"
      ]
     },
     "execution_count": 53,
     "metadata": {},
     "output_type": "execute_result"
    }
   ],
   "source": [
    "confusion_matrix(labels, flow_pred_labels)"
   ]
  },
  {
   "cell_type": "code",
   "execution_count": 54,
   "metadata": {},
   "outputs": [
    {
     "name": "stdout",
     "output_type": "stream",
     "text": [
      "Precision: 0.7177914110429447\n",
      "Recall: 0.9435483870967742\n",
      "F1: 0.8153310104529616\n"
     ]
    }
   ],
   "source": [
    "print(\"Precision:\", precision_score(labels, flow_pred_labels))\n",
    "print(\"Recall:\", recall_score(labels, flow_pred_labels))\n",
    "print(\"F1:\", f1_score(labels, flow_pred_labels))"
   ]
  },
  {
   "cell_type": "code",
   "execution_count": 55,
   "metadata": {},
   "outputs": [
    {
     "data": {
      "text/html": [
       "<style>#sk-container-id-2 {color: black;background-color: white;}#sk-container-id-2 pre{padding: 0;}#sk-container-id-2 div.sk-toggleable {background-color: white;}#sk-container-id-2 label.sk-toggleable__label {cursor: pointer;display: block;width: 100%;margin-bottom: 0;padding: 0.3em;box-sizing: border-box;text-align: center;}#sk-container-id-2 label.sk-toggleable__label-arrow:before {content: \"▸\";float: left;margin-right: 0.25em;color: #696969;}#sk-container-id-2 label.sk-toggleable__label-arrow:hover:before {color: black;}#sk-container-id-2 div.sk-estimator:hover label.sk-toggleable__label-arrow:before {color: black;}#sk-container-id-2 div.sk-toggleable__content {max-height: 0;max-width: 0;overflow: hidden;text-align: left;background-color: #f0f8ff;}#sk-container-id-2 div.sk-toggleable__content pre {margin: 0.2em;color: black;border-radius: 0.25em;background-color: #f0f8ff;}#sk-container-id-2 input.sk-toggleable__control:checked~div.sk-toggleable__content {max-height: 200px;max-width: 100%;overflow: auto;}#sk-container-id-2 input.sk-toggleable__control:checked~label.sk-toggleable__label-arrow:before {content: \"▾\";}#sk-container-id-2 div.sk-estimator input.sk-toggleable__control:checked~label.sk-toggleable__label {background-color: #d4ebff;}#sk-container-id-2 div.sk-label input.sk-toggleable__control:checked~label.sk-toggleable__label {background-color: #d4ebff;}#sk-container-id-2 input.sk-hidden--visually {border: 0;clip: rect(1px 1px 1px 1px);clip: rect(1px, 1px, 1px, 1px);height: 1px;margin: -1px;overflow: hidden;padding: 0;position: absolute;width: 1px;}#sk-container-id-2 div.sk-estimator {font-family: monospace;background-color: #f0f8ff;border: 1px dotted black;border-radius: 0.25em;box-sizing: border-box;margin-bottom: 0.5em;}#sk-container-id-2 div.sk-estimator:hover {background-color: #d4ebff;}#sk-container-id-2 div.sk-parallel-item::after {content: \"\";width: 100%;border-bottom: 1px solid gray;flex-grow: 1;}#sk-container-id-2 div.sk-label:hover label.sk-toggleable__label {background-color: #d4ebff;}#sk-container-id-2 div.sk-serial::before {content: \"\";position: absolute;border-left: 1px solid gray;box-sizing: border-box;top: 0;bottom: 0;left: 50%;z-index: 0;}#sk-container-id-2 div.sk-serial {display: flex;flex-direction: column;align-items: center;background-color: white;padding-right: 0.2em;padding-left: 0.2em;position: relative;}#sk-container-id-2 div.sk-item {position: relative;z-index: 1;}#sk-container-id-2 div.sk-parallel {display: flex;align-items: stretch;justify-content: center;background-color: white;position: relative;}#sk-container-id-2 div.sk-item::before, #sk-container-id-2 div.sk-parallel-item::before {content: \"\";position: absolute;border-left: 1px solid gray;box-sizing: border-box;top: 0;bottom: 0;left: 50%;z-index: -1;}#sk-container-id-2 div.sk-parallel-item {display: flex;flex-direction: column;z-index: 1;position: relative;background-color: white;}#sk-container-id-2 div.sk-parallel-item:first-child::after {align-self: flex-end;width: 50%;}#sk-container-id-2 div.sk-parallel-item:last-child::after {align-self: flex-start;width: 50%;}#sk-container-id-2 div.sk-parallel-item:only-child::after {width: 0;}#sk-container-id-2 div.sk-dashed-wrapped {border: 1px dashed gray;margin: 0 0.4em 0.5em 0.4em;box-sizing: border-box;padding-bottom: 0.4em;background-color: white;}#sk-container-id-2 div.sk-label label {font-family: monospace;font-weight: bold;display: inline-block;line-height: 1.2em;}#sk-container-id-2 div.sk-label-container {text-align: center;}#sk-container-id-2 div.sk-container {/* jupyter's `normalize.less` sets `[hidden] { display: none; }` but bootstrap.min.css set `[hidden] { display: none !important; }` so we also need the `!important` here to be able to override the default hidden behavior on the sphinx rendered scikit-learn.org. See: https://github.com/scikit-learn/scikit-learn/issues/21755 */display: inline-block !important;position: relative;}#sk-container-id-2 div.sk-text-repr-fallback {display: none;}</style><div id=\"sk-container-id-2\" class=\"sk-top-container\"><div class=\"sk-text-repr-fallback\"><pre>DecisionTreeClassifier()</pre><b>In a Jupyter environment, please rerun this cell to show the HTML representation or trust the notebook. <br />On GitHub, the HTML representation is unable to render, please try loading this page with nbviewer.org.</b></div><div class=\"sk-container\" hidden><div class=\"sk-item\"><div class=\"sk-estimator sk-toggleable\"><input class=\"sk-toggleable__control sk-hidden--visually\" id=\"sk-estimator-id-2\" type=\"checkbox\" checked><label for=\"sk-estimator-id-2\" class=\"sk-toggleable__label sk-toggleable__label-arrow\">DecisionTreeClassifier</label><div class=\"sk-toggleable__content\"><pre>DecisionTreeClassifier()</pre></div></div></div></div></div>"
      ],
      "text/plain": [
       "DecisionTreeClassifier()"
      ]
     },
     "execution_count": 55,
     "metadata": {},
     "output_type": "execute_result"
    }
   ],
   "source": [
    "treeClassifier.fit(flow_df, labels)"
   ]
  },
  {
   "cell_type": "code",
   "execution_count": 56,
   "metadata": {},
   "outputs": [
    {
     "name": "stdout",
     "output_type": "stream",
     "text": [
      "2022_05_15_13_41.out\n",
      "2022_05_15_14_41.out\n"
     ]
    }
   ],
   "source": [
    "test_raw_df = pd.DataFrame()\n",
    "for datafolder in sorted(os.listdir(dataDir)):\n",
    "    if datafolder > '2022_05_15_08_54.out':\n",
    "        print(datafolder)\n",
    "        dataPointFile = dataDir + datafolder + datafile\n",
    "        test_raw_df = pd.concat([test_raw_df, pd.read_csv(dataPointFile, sep = ' ')])\n",
    "test_raw_df = test_raw_df.reset_index(drop=True)"
   ]
  },
  {
   "cell_type": "code",
   "execution_count": 57,
   "metadata": {},
   "outputs": [
    {
     "name": "stdout",
     "output_type": "stream",
     "text": [
      "['178.32.120.127', '51.254.84.37', '51.68.21.186', '94.130.165.85', '94.130.164.163', '94.130.165.87', '94.130.164.163', '178.32.120.127', '94.130.164.163', '136.243.49.177', '51.68.21.186', '94.130.164.163', '136.243.49.177', '136.243.49.177', '94.130.164.163', '51.68.21.188', '178.32.120.127', '51.254.84.37', '51.254.84.37', '94.130.165.85', '51.68.21.188', '51.68.21.186', '94.130.165.85', '136.243.49.177', '51.254.84.37', '51.254.84.37', '94.130.165.87', '178.32.120.127', '136.243.49.177', '178.32.120.127', '178.32.120.127', '51.68.21.186', '51.254.84.37', '94.130.164.163', '51.68.21.186', '94.130.164.163', '94.130.164.163', '51.68.21.188', '51.68.21.188', '178.32.120.127', '51.68.21.186', '51.68.21.188', '51.68.21.188', '51.254.84.37', '51.254.84.37', '51.68.21.186', '51.68.21.188', '51.68.21.186', '51.254.84.37', '51.68.21.186', '51.254.84.37', '178.32.120.127', '178.32.120.127', '94.130.164.163', '136.243.49.177', '178.32.120.127', '51.254.84.37', '51.68.21.186', '51.254.84.37', '178.32.120.127', '51.68.21.186', '178.32.120.127', '51.68.21.188', '94.130.165.85', '94.130.165.87', '94.130.164.163', '51.68.21.188', '51.68.21.186', '94.130.165.85', '51.68.21.188', '136.243.49.177', '178.32.120.127', '94.130.164.163', '51.68.21.188', '136.243.49.177', '178.32.120.127', '94.130.165.85', '51.68.21.186', '94.130.165.87', '51.68.21.186', '136.243.49.177', '94.130.165.87', '94.130.164.163', '94.130.165.85', '94.130.164.163', '94.130.165.85', '178.32.120.127', '94.130.164.163', '136.243.49.177', '94.130.164.163', '178.32.120.127', '51.68.21.186', '51.254.84.37', '94.130.164.163', '178.32.120.127', '94.130.165.85', '51.68.21.186', '94.130.165.87', '94.130.164.163', '178.32.120.127', '94.130.165.85', '94.130.165.87', '51.68.21.188', '94.130.165.85', '94.130.164.163', '94.130.165.87', '94.130.165.87', '51.68.21.188', '51.68.21.186', '94.130.165.87', '94.130.164.163', '51.68.21.188', '94.130.165.85', '51.68.21.188', '51.68.21.188', '51.254.84.37', '178.32.120.127', '178.32.120.127', '94.130.164.163']\n"
     ]
    }
   ],
   "source": [
    "f = open(dataDir + poolIPsFile, 'r')\n",
    "poolIPs = f.read().splitlines()\n",
    "print(poolIPs)"
   ]
  },
  {
   "cell_type": "code",
   "execution_count": 58,
   "metadata": {},
   "outputs": [
    {
     "data": {
      "text/html": [
       "<div>\n",
       "<style scoped>\n",
       "    .dataframe tbody tr th:only-of-type {\n",
       "        vertical-align: middle;\n",
       "    }\n",
       "\n",
       "    .dataframe tbody tr th {\n",
       "        vertical-align: top;\n",
       "    }\n",
       "\n",
       "    .dataframe thead th {\n",
       "        text-align: right;\n",
       "    }\n",
       "</style>\n",
       "<table border=\"1\" class=\"dataframe\">\n",
       "  <thead>\n",
       "    <tr style=\"text-align: right;\">\n",
       "      <th></th>\n",
       "      <th>#09#c_ip:1</th>\n",
       "      <th>c_port:2</th>\n",
       "      <th>c_pkts_all:3</th>\n",
       "      <th>c_rst_cnt:4</th>\n",
       "      <th>c_ack_cnt:5</th>\n",
       "      <th>c_ack_cnt_p:6</th>\n",
       "      <th>c_bytes_uniq:7</th>\n",
       "      <th>c_pkts_data:8</th>\n",
       "      <th>c_bytes_all:9</th>\n",
       "      <th>c_pkts_retx:10</th>\n",
       "      <th>...</th>\n",
       "      <th>s_cwin_ini:95</th>\n",
       "      <th>s_pkts_rto:96</th>\n",
       "      <th>s_pkts_fs:97</th>\n",
       "      <th>s_pkts_reor:98</th>\n",
       "      <th>s_pkts_dup:99</th>\n",
       "      <th>s_pkts_unk:100</th>\n",
       "      <th>s_pkts_fc:101</th>\n",
       "      <th>s_pkts_unrto:102</th>\n",
       "      <th>s_pkts_unfs:103</th>\n",
       "      <th>s_syn_retx:104</th>\n",
       "    </tr>\n",
       "  </thead>\n",
       "  <tbody>\n",
       "    <tr>\n",
       "      <th>0</th>\n",
       "      <td>192.168.0.92</td>\n",
       "      <td>40254</td>\n",
       "      <td>11</td>\n",
       "      <td>0</td>\n",
       "      <td>10</td>\n",
       "      <td>5</td>\n",
       "      <td>867</td>\n",
       "      <td>4</td>\n",
       "      <td>867</td>\n",
       "      <td>0</td>\n",
       "      <td>...</td>\n",
       "      <td>2920</td>\n",
       "      <td>0</td>\n",
       "      <td>0</td>\n",
       "      <td>0</td>\n",
       "      <td>0</td>\n",
       "      <td>0</td>\n",
       "      <td>0</td>\n",
       "      <td>0</td>\n",
       "      <td>0</td>\n",
       "      <td>0</td>\n",
       "    </tr>\n",
       "    <tr>\n",
       "      <th>1</th>\n",
       "      <td>192.168.0.92</td>\n",
       "      <td>40252</td>\n",
       "      <td>11</td>\n",
       "      <td>0</td>\n",
       "      <td>10</td>\n",
       "      <td>5</td>\n",
       "      <td>867</td>\n",
       "      <td>4</td>\n",
       "      <td>867</td>\n",
       "      <td>0</td>\n",
       "      <td>...</td>\n",
       "      <td>2920</td>\n",
       "      <td>0</td>\n",
       "      <td>0</td>\n",
       "      <td>1</td>\n",
       "      <td>0</td>\n",
       "      <td>0</td>\n",
       "      <td>0</td>\n",
       "      <td>0</td>\n",
       "      <td>0</td>\n",
       "      <td>0</td>\n",
       "    </tr>\n",
       "    <tr>\n",
       "      <th>2</th>\n",
       "      <td>192.168.0.92</td>\n",
       "      <td>40250</td>\n",
       "      <td>11</td>\n",
       "      <td>0</td>\n",
       "      <td>10</td>\n",
       "      <td>5</td>\n",
       "      <td>867</td>\n",
       "      <td>4</td>\n",
       "      <td>867</td>\n",
       "      <td>0</td>\n",
       "      <td>...</td>\n",
       "      <td>1460</td>\n",
       "      <td>0</td>\n",
       "      <td>0</td>\n",
       "      <td>1</td>\n",
       "      <td>0</td>\n",
       "      <td>0</td>\n",
       "      <td>0</td>\n",
       "      <td>0</td>\n",
       "      <td>0</td>\n",
       "      <td>0</td>\n",
       "    </tr>\n",
       "    <tr>\n",
       "      <th>3</th>\n",
       "      <td>192.168.0.92</td>\n",
       "      <td>40256</td>\n",
       "      <td>13</td>\n",
       "      <td>0</td>\n",
       "      <td>12</td>\n",
       "      <td>7</td>\n",
       "      <td>867</td>\n",
       "      <td>4</td>\n",
       "      <td>867</td>\n",
       "      <td>0</td>\n",
       "      <td>...</td>\n",
       "      <td>5006</td>\n",
       "      <td>0</td>\n",
       "      <td>1</td>\n",
       "      <td>1</td>\n",
       "      <td>0</td>\n",
       "      <td>1</td>\n",
       "      <td>0</td>\n",
       "      <td>0</td>\n",
       "      <td>0</td>\n",
       "      <td>0</td>\n",
       "    </tr>\n",
       "    <tr>\n",
       "      <th>4</th>\n",
       "      <td>192.168.0.92</td>\n",
       "      <td>40258</td>\n",
       "      <td>10</td>\n",
       "      <td>0</td>\n",
       "      <td>9</td>\n",
       "      <td>4</td>\n",
       "      <td>867</td>\n",
       "      <td>4</td>\n",
       "      <td>867</td>\n",
       "      <td>0</td>\n",
       "      <td>...</td>\n",
       "      <td>2920</td>\n",
       "      <td>0</td>\n",
       "      <td>0</td>\n",
       "      <td>0</td>\n",
       "      <td>0</td>\n",
       "      <td>0</td>\n",
       "      <td>0</td>\n",
       "      <td>0</td>\n",
       "      <td>0</td>\n",
       "      <td>0</td>\n",
       "    </tr>\n",
       "    <tr>\n",
       "      <th>...</th>\n",
       "      <td>...</td>\n",
       "      <td>...</td>\n",
       "      <td>...</td>\n",
       "      <td>...</td>\n",
       "      <td>...</td>\n",
       "      <td>...</td>\n",
       "      <td>...</td>\n",
       "      <td>...</td>\n",
       "      <td>...</td>\n",
       "      <td>...</td>\n",
       "      <td>...</td>\n",
       "      <td>...</td>\n",
       "      <td>...</td>\n",
       "      <td>...</td>\n",
       "      <td>...</td>\n",
       "      <td>...</td>\n",
       "      <td>...</td>\n",
       "      <td>...</td>\n",
       "      <td>...</td>\n",
       "      <td>...</td>\n",
       "      <td>...</td>\n",
       "    </tr>\n",
       "    <tr>\n",
       "      <th>511</th>\n",
       "      <td>192.168.0.92</td>\n",
       "      <td>48208</td>\n",
       "      <td>129</td>\n",
       "      <td>1</td>\n",
       "      <td>127</td>\n",
       "      <td>74</td>\n",
       "      <td>51281</td>\n",
       "      <td>52</td>\n",
       "      <td>51591</td>\n",
       "      <td>1</td>\n",
       "      <td>...</td>\n",
       "      <td>392</td>\n",
       "      <td>1</td>\n",
       "      <td>0</td>\n",
       "      <td>1</td>\n",
       "      <td>0</td>\n",
       "      <td>0</td>\n",
       "      <td>0</td>\n",
       "      <td>0</td>\n",
       "      <td>0</td>\n",
       "      <td>0</td>\n",
       "    </tr>\n",
       "    <tr>\n",
       "      <th>512</th>\n",
       "      <td>192.168.0.92</td>\n",
       "      <td>59070</td>\n",
       "      <td>84</td>\n",
       "      <td>0</td>\n",
       "      <td>83</td>\n",
       "      <td>76</td>\n",
       "      <td>1499</td>\n",
       "      <td>7</td>\n",
       "      <td>1499</td>\n",
       "      <td>0</td>\n",
       "      <td>...</td>\n",
       "      <td>6258</td>\n",
       "      <td>0</td>\n",
       "      <td>13</td>\n",
       "      <td>10</td>\n",
       "      <td>0</td>\n",
       "      <td>7</td>\n",
       "      <td>0</td>\n",
       "      <td>0</td>\n",
       "      <td>0</td>\n",
       "      <td>0</td>\n",
       "    </tr>\n",
       "    <tr>\n",
       "      <th>513</th>\n",
       "      <td>192.168.0.92</td>\n",
       "      <td>49584</td>\n",
       "      <td>18</td>\n",
       "      <td>0</td>\n",
       "      <td>17</td>\n",
       "      <td>12</td>\n",
       "      <td>2082</td>\n",
       "      <td>5</td>\n",
       "      <td>2082</td>\n",
       "      <td>0</td>\n",
       "      <td>...</td>\n",
       "      <td>5840</td>\n",
       "      <td>0</td>\n",
       "      <td>1</td>\n",
       "      <td>2</td>\n",
       "      <td>0</td>\n",
       "      <td>0</td>\n",
       "      <td>0</td>\n",
       "      <td>0</td>\n",
       "      <td>0</td>\n",
       "      <td>0</td>\n",
       "    </tr>\n",
       "    <tr>\n",
       "      <th>514</th>\n",
       "      <td>192.168.0.92</td>\n",
       "      <td>48238</td>\n",
       "      <td>43</td>\n",
       "      <td>1</td>\n",
       "      <td>41</td>\n",
       "      <td>30</td>\n",
       "      <td>3674</td>\n",
       "      <td>10</td>\n",
       "      <td>3674</td>\n",
       "      <td>0</td>\n",
       "      <td>...</td>\n",
       "      <td>392</td>\n",
       "      <td>0</td>\n",
       "      <td>0</td>\n",
       "      <td>0</td>\n",
       "      <td>0</td>\n",
       "      <td>0</td>\n",
       "      <td>0</td>\n",
       "      <td>0</td>\n",
       "      <td>0</td>\n",
       "      <td>0</td>\n",
       "    </tr>\n",
       "    <tr>\n",
       "      <th>515</th>\n",
       "      <td>192.168.0.92</td>\n",
       "      <td>48254</td>\n",
       "      <td>29</td>\n",
       "      <td>1</td>\n",
       "      <td>27</td>\n",
       "      <td>15</td>\n",
       "      <td>6784</td>\n",
       "      <td>11</td>\n",
       "      <td>6784</td>\n",
       "      <td>0</td>\n",
       "      <td>...</td>\n",
       "      <td>392</td>\n",
       "      <td>0</td>\n",
       "      <td>0</td>\n",
       "      <td>2</td>\n",
       "      <td>0</td>\n",
       "      <td>0</td>\n",
       "      <td>0</td>\n",
       "      <td>0</td>\n",
       "      <td>0</td>\n",
       "      <td>0</td>\n",
       "    </tr>\n",
       "  </tbody>\n",
       "</table>\n",
       "<p>516 rows × 104 columns</p>\n",
       "</div>"
      ],
      "text/plain": [
       "       #09#c_ip:1  c_port:2  c_pkts_all:3  c_rst_cnt:4  c_ack_cnt:5  \\\n",
       "0    192.168.0.92     40254            11            0           10   \n",
       "1    192.168.0.92     40252            11            0           10   \n",
       "2    192.168.0.92     40250            11            0           10   \n",
       "3    192.168.0.92     40256            13            0           12   \n",
       "4    192.168.0.92     40258            10            0            9   \n",
       "..            ...       ...           ...          ...          ...   \n",
       "511  192.168.0.92     48208           129            1          127   \n",
       "512  192.168.0.92     59070            84            0           83   \n",
       "513  192.168.0.92     49584            18            0           17   \n",
       "514  192.168.0.92     48238            43            1           41   \n",
       "515  192.168.0.92     48254            29            1           27   \n",
       "\n",
       "     c_ack_cnt_p:6  c_bytes_uniq:7  c_pkts_data:8  c_bytes_all:9  \\\n",
       "0                5             867              4            867   \n",
       "1                5             867              4            867   \n",
       "2                5             867              4            867   \n",
       "3                7             867              4            867   \n",
       "4                4             867              4            867   \n",
       "..             ...             ...            ...            ...   \n",
       "511             74           51281             52          51591   \n",
       "512             76            1499              7           1499   \n",
       "513             12            2082              5           2082   \n",
       "514             30            3674             10           3674   \n",
       "515             15            6784             11           6784   \n",
       "\n",
       "     c_pkts_retx:10  ...  s_cwin_ini:95  s_pkts_rto:96  s_pkts_fs:97  \\\n",
       "0                 0  ...           2920              0             0   \n",
       "1                 0  ...           2920              0             0   \n",
       "2                 0  ...           1460              0             0   \n",
       "3                 0  ...           5006              0             1   \n",
       "4                 0  ...           2920              0             0   \n",
       "..              ...  ...            ...            ...           ...   \n",
       "511               1  ...            392              1             0   \n",
       "512               0  ...           6258              0            13   \n",
       "513               0  ...           5840              0             1   \n",
       "514               0  ...            392              0             0   \n",
       "515               0  ...            392              0             0   \n",
       "\n",
       "     s_pkts_reor:98 s_pkts_dup:99  s_pkts_unk:100  s_pkts_fc:101  \\\n",
       "0                 0             0               0              0   \n",
       "1                 1             0               0              0   \n",
       "2                 1             0               0              0   \n",
       "3                 1             0               1              0   \n",
       "4                 0             0               0              0   \n",
       "..              ...           ...             ...            ...   \n",
       "511               1             0               0              0   \n",
       "512              10             0               7              0   \n",
       "513               2             0               0              0   \n",
       "514               0             0               0              0   \n",
       "515               2             0               0              0   \n",
       "\n",
       "     s_pkts_unrto:102  s_pkts_unfs:103  s_syn_retx:104  \n",
       "0                   0                0               0  \n",
       "1                   0                0               0  \n",
       "2                   0                0               0  \n",
       "3                   0                0               0  \n",
       "4                   0                0               0  \n",
       "..                ...              ...             ...  \n",
       "511                 0                0               0  \n",
       "512                 0                0               0  \n",
       "513                 0                0               0  \n",
       "514                 0                0               0  \n",
       "515                 0                0               0  \n",
       "\n",
       "[516 rows x 104 columns]"
      ]
     },
     "execution_count": 58,
     "metadata": {},
     "output_type": "execute_result"
    }
   ],
   "source": [
    "test_raw_df"
   ]
  },
  {
   "cell_type": "code",
   "execution_count": 59,
   "metadata": {},
   "outputs": [],
   "source": [
    "test_raw_df[\"s_ip:15\"] = test_raw_df[\"s_ip:15\"].apply(is_pool)"
   ]
  },
  {
   "cell_type": "code",
   "execution_count": 60,
   "metadata": {},
   "outputs": [],
   "source": [
    "test_raw_df_prooned = test_raw_df.drop([\"#09#c_ip:1\", \"c_port:2\", \"s_port:16\", 'c_pkts_ooo:12',\n",
    " 'c_isint:38', 's_isint:39', 'c_iscrypto:40', 's_iscrypto:41', 'p2p_t:43',\n",
    "  'c_ttl_min:50', 'c_ttl_max:51', 'c_f1323_opt:59', 'c_tm_opt:60',\n",
    "   'c_sack_opt:62', 'c_mss:64', 'c_win_0:69', 'c_pkts_reor:75',\n",
    "    'c_pkts_dup:76', 'c_pkts_fc:78', 'c_pkts_unrto:79',\n",
    "     'c_pkts_unfs:80', 'c_syn_retx:81', 's_pkts_fc:101',\n",
    "      's_pkts_unfs:103', 's_syn_retx:104'], axis=1)"
   ]
  },
  {
   "cell_type": "code",
   "execution_count": 61,
   "metadata": {},
   "outputs": [],
   "source": [
    "test_flow_df = test_raw_df_prooned.drop([\"s_ip:15\"], axis=1)\n",
    "test_labels = test_raw_df_prooned[\"s_ip:15\"].copy()"
   ]
  },
  {
   "cell_type": "code",
   "execution_count": 62,
   "metadata": {},
   "outputs": [],
   "source": [
    "test_flow_df = standardScaler.transform(test_flow_df)"
   ]
  },
  {
   "cell_type": "code",
   "execution_count": 63,
   "metadata": {},
   "outputs": [],
   "source": [
    "test_pred_labels = treeClassifier.predict(test_flow_df)"
   ]
  },
  {
   "cell_type": "code",
   "execution_count": 64,
   "metadata": {},
   "outputs": [
    {
     "data": {
      "text/plain": [
       "8"
      ]
     },
     "execution_count": 64,
     "metadata": {},
     "output_type": "execute_result"
    }
   ],
   "source": [
    "sum(test_pred_labels)"
   ]
  },
  {
   "cell_type": "code",
   "execution_count": 65,
   "metadata": {},
   "outputs": [
    {
     "name": "stdout",
     "output_type": "stream",
     "text": [
      "Test Precision: 1.0\n",
      "Test Recall: 1.0\n",
      "Test F1: 1.0\n"
     ]
    }
   ],
   "source": [
    "print(\"Test Precision:\", precision_score(test_labels, test_pred_labels))\n",
    "print(\"Test Recall:\", recall_score(test_labels, test_pred_labels))\n",
    "print(\"Test F1:\", f1_score(test_labels, test_pred_labels))"
   ]
  },
  {
   "cell_type": "code",
   "execution_count": 66,
   "metadata": {},
   "outputs": [
    {
     "data": {
      "text/plain": [
       "array([[508,   0],\n",
       "       [  0,   8]])"
      ]
     },
     "execution_count": 66,
     "metadata": {},
     "output_type": "execute_result"
    }
   ],
   "source": [
    "confusion_matrix(test_labels, test_pred_labels)"
   ]
  },
  {
   "cell_type": "code",
   "execution_count": 67,
   "metadata": {},
   "outputs": [],
   "source": [
    "randomforestClassifier = RandomForestClassifier(n_estimators=25)"
   ]
  },
  {
   "cell_type": "code",
   "execution_count": 68,
   "metadata": {},
   "outputs": [],
   "source": [
    "flow_pred_labels = cross_val_predict(randomforestClassifier, flow_df, labels, cv=10)"
   ]
  },
  {
   "cell_type": "code",
   "execution_count": 69,
   "metadata": {},
   "outputs": [
    {
     "data": {
      "text/plain": [
       "array([[6398,   33],\n",
       "       [   5,  119]])"
      ]
     },
     "execution_count": 69,
     "metadata": {},
     "output_type": "execute_result"
    }
   ],
   "source": [
    "confusion_matrix(labels, flow_pred_labels)"
   ]
  },
  {
   "cell_type": "code",
   "execution_count": 70,
   "metadata": {},
   "outputs": [
    {
     "name": "stdout",
     "output_type": "stream",
     "text": [
      "Precision: 0.7828947368421053\n",
      "Recall: 0.9596774193548387\n",
      "F1: 0.8623188405797102\n"
     ]
    }
   ],
   "source": [
    "print(\"Precision:\", precision_score(labels, flow_pred_labels))\n",
    "print(\"Recall:\", recall_score(labels, flow_pred_labels))\n",
    "print(\"F1:\", f1_score(labels, flow_pred_labels))"
   ]
  },
  {
   "cell_type": "code",
   "execution_count": 72,
   "metadata": {},
   "outputs": [
    {
     "data": {
      "text/html": [
       "<style>#sk-container-id-3 {color: black;background-color: white;}#sk-container-id-3 pre{padding: 0;}#sk-container-id-3 div.sk-toggleable {background-color: white;}#sk-container-id-3 label.sk-toggleable__label {cursor: pointer;display: block;width: 100%;margin-bottom: 0;padding: 0.3em;box-sizing: border-box;text-align: center;}#sk-container-id-3 label.sk-toggleable__label-arrow:before {content: \"▸\";float: left;margin-right: 0.25em;color: #696969;}#sk-container-id-3 label.sk-toggleable__label-arrow:hover:before {color: black;}#sk-container-id-3 div.sk-estimator:hover label.sk-toggleable__label-arrow:before {color: black;}#sk-container-id-3 div.sk-toggleable__content {max-height: 0;max-width: 0;overflow: hidden;text-align: left;background-color: #f0f8ff;}#sk-container-id-3 div.sk-toggleable__content pre {margin: 0.2em;color: black;border-radius: 0.25em;background-color: #f0f8ff;}#sk-container-id-3 input.sk-toggleable__control:checked~div.sk-toggleable__content {max-height: 200px;max-width: 100%;overflow: auto;}#sk-container-id-3 input.sk-toggleable__control:checked~label.sk-toggleable__label-arrow:before {content: \"▾\";}#sk-container-id-3 div.sk-estimator input.sk-toggleable__control:checked~label.sk-toggleable__label {background-color: #d4ebff;}#sk-container-id-3 div.sk-label input.sk-toggleable__control:checked~label.sk-toggleable__label {background-color: #d4ebff;}#sk-container-id-3 input.sk-hidden--visually {border: 0;clip: rect(1px 1px 1px 1px);clip: rect(1px, 1px, 1px, 1px);height: 1px;margin: -1px;overflow: hidden;padding: 0;position: absolute;width: 1px;}#sk-container-id-3 div.sk-estimator {font-family: monospace;background-color: #f0f8ff;border: 1px dotted black;border-radius: 0.25em;box-sizing: border-box;margin-bottom: 0.5em;}#sk-container-id-3 div.sk-estimator:hover {background-color: #d4ebff;}#sk-container-id-3 div.sk-parallel-item::after {content: \"\";width: 100%;border-bottom: 1px solid gray;flex-grow: 1;}#sk-container-id-3 div.sk-label:hover label.sk-toggleable__label {background-color: #d4ebff;}#sk-container-id-3 div.sk-serial::before {content: \"\";position: absolute;border-left: 1px solid gray;box-sizing: border-box;top: 0;bottom: 0;left: 50%;z-index: 0;}#sk-container-id-3 div.sk-serial {display: flex;flex-direction: column;align-items: center;background-color: white;padding-right: 0.2em;padding-left: 0.2em;position: relative;}#sk-container-id-3 div.sk-item {position: relative;z-index: 1;}#sk-container-id-3 div.sk-parallel {display: flex;align-items: stretch;justify-content: center;background-color: white;position: relative;}#sk-container-id-3 div.sk-item::before, #sk-container-id-3 div.sk-parallel-item::before {content: \"\";position: absolute;border-left: 1px solid gray;box-sizing: border-box;top: 0;bottom: 0;left: 50%;z-index: -1;}#sk-container-id-3 div.sk-parallel-item {display: flex;flex-direction: column;z-index: 1;position: relative;background-color: white;}#sk-container-id-3 div.sk-parallel-item:first-child::after {align-self: flex-end;width: 50%;}#sk-container-id-3 div.sk-parallel-item:last-child::after {align-self: flex-start;width: 50%;}#sk-container-id-3 div.sk-parallel-item:only-child::after {width: 0;}#sk-container-id-3 div.sk-dashed-wrapped {border: 1px dashed gray;margin: 0 0.4em 0.5em 0.4em;box-sizing: border-box;padding-bottom: 0.4em;background-color: white;}#sk-container-id-3 div.sk-label label {font-family: monospace;font-weight: bold;display: inline-block;line-height: 1.2em;}#sk-container-id-3 div.sk-label-container {text-align: center;}#sk-container-id-3 div.sk-container {/* jupyter's `normalize.less` sets `[hidden] { display: none; }` but bootstrap.min.css set `[hidden] { display: none !important; }` so we also need the `!important` here to be able to override the default hidden behavior on the sphinx rendered scikit-learn.org. See: https://github.com/scikit-learn/scikit-learn/issues/21755 */display: inline-block !important;position: relative;}#sk-container-id-3 div.sk-text-repr-fallback {display: none;}</style><div id=\"sk-container-id-3\" class=\"sk-top-container\"><div class=\"sk-text-repr-fallback\"><pre>RandomForestClassifier(n_estimators=25)</pre><b>In a Jupyter environment, please rerun this cell to show the HTML representation or trust the notebook. <br />On GitHub, the HTML representation is unable to render, please try loading this page with nbviewer.org.</b></div><div class=\"sk-container\" hidden><div class=\"sk-item\"><div class=\"sk-estimator sk-toggleable\"><input class=\"sk-toggleable__control sk-hidden--visually\" id=\"sk-estimator-id-3\" type=\"checkbox\" checked><label for=\"sk-estimator-id-3\" class=\"sk-toggleable__label sk-toggleable__label-arrow\">RandomForestClassifier</label><div class=\"sk-toggleable__content\"><pre>RandomForestClassifier(n_estimators=25)</pre></div></div></div></div></div>"
      ],
      "text/plain": [
       "RandomForestClassifier(n_estimators=25)"
      ]
     },
     "execution_count": 72,
     "metadata": {},
     "output_type": "execute_result"
    }
   ],
   "source": [
    "randomforestClassifier.fit(flow_df, labels)"
   ]
  },
  {
   "cell_type": "code",
   "execution_count": 73,
   "metadata": {},
   "outputs": [
    {
     "name": "stdout",
     "output_type": "stream",
     "text": [
      "Test Precision: 1.0\n",
      "Test Recall: 1.0\n",
      "Test F1: 1.0\n"
     ]
    }
   ],
   "source": [
    "test_pred_labels = randomforestClassifier.predict(test_flow_df)\n",
    "print(\"Test Precision:\", precision_score(test_labels, test_pred_labels))\n",
    "print(\"Test Recall:\", recall_score(test_labels, test_pred_labels))\n",
    "print(\"Test F1:\", f1_score(test_labels, test_pred_labels))"
   ]
  }
 ],
 "metadata": {
  "interpreter": {
   "hash": "31f2aee4e71d21fbe5cf8b01ff0e069b9275f58929596ceb00d14d90e3e16cd6"
  },
  "kernelspec": {
   "display_name": "Python 3.9.7 64-bit",
   "language": "python",
   "name": "python3"
  },
  "language_info": {
   "codemirror_mode": {
    "name": "ipython",
    "version": 3
   },
   "file_extension": ".py",
   "mimetype": "text/x-python",
   "name": "python",
   "nbconvert_exporter": "python",
   "pygments_lexer": "ipython3",
   "version": "3.9.7"
  },
  "orig_nbformat": 4
 },
 "nbformat": 4,
 "nbformat_minor": 2
}
