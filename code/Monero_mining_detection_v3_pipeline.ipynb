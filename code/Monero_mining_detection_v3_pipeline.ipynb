{
 "cells": [
  {
   "cell_type": "code",
   "execution_count": 1,
   "metadata": {},
   "outputs": [],
   "source": [
    "import numpy as np\n",
    "import pandas as pd\n",
    "import os\n",
    "import matplotlib.pyplot as plt\n",
    "from pandas.plotting import scatter_matrix\n",
    "from sklearn.preprocessing import StandardScaler\n",
    "from sklearn.metrics import mean_squared_error\n",
    "from sklearn.tree import DecisionTreeClassifier\n",
    "from sklearn.ensemble import RandomForestClassifier\n",
    "from sklearn.model_selection import cross_val_score\n",
    "from sklearn.model_selection import cross_val_predict\n",
    "from sklearn.metrics import confusion_matrix\n",
    "from sklearn.metrics import precision_score, recall_score, f1_score\n",
    "from sklearn.model_selection import train_test_split\n",
    "from sklearn.pipeline import Pipeline\n",
    "from sklearn.compose import ColumnTransformer\n",
    "\n",
    "\n",
    "\n",
    "plt.style.use('ggplot')\n",
    "plt.rcParams['figure.figsize'] = (15, 10)\n",
    "plt.rcParams.update({\n",
    "    \"lines.color\": \"black\",\n",
    "    \"patch.edgecolor\": \"black\",\n",
    "    \"text.color\": \"black\",\n",
    "    \"axes.facecolor\": \"white\",\n",
    "    \"axes.edgecolor\": \"black\",\n",
    "    \"axes.labelcolor\": \"black\",\n",
    "    \"xtick.color\": \"black\",\n",
    "    \"ytick.color\": \"black\",\n",
    "    \"grid.color\": \"white\",\n",
    "    \"figure.facecolor\": \"white\",\n",
    "    \"figure.edgecolor\": \"white\",\n",
    "    \"savefig.facecolor\": \"white\",\n",
    "    \"savefig.edgecolor\": \"white\",\n",
    "    \"font.size\": 25})\n",
    "\n",
    "%matplotlib inline"
   ]
  },
  {
   "cell_type": "code",
   "execution_count": 2,
   "metadata": {},
   "outputs": [],
   "source": [
    "dataDir = \"../data generation/Tstat/stdin/\"\n",
    "datafile = \"/log_tcp_complete\"\n",
    "poolIPsFile = \"../poolIP.txt\""
   ]
  },
  {
   "cell_type": "code",
   "execution_count": 3,
   "metadata": {},
   "outputs": [],
   "source": [
    "## Aggregate Data\n",
    "raw_df = pd.DataFrame()\n",
    "for datafolder in sorted(os.listdir(dataDir)):\n",
    "    dataPointFile = dataDir + datafolder + datafile\n",
    "    raw_df = pd.concat([raw_df, pd.read_csv(dataPointFile, sep = ' ')])"
   ]
  },
  {
   "cell_type": "code",
   "execution_count": 4,
   "metadata": {},
   "outputs": [],
   "source": [
    "raw_df = raw_df.reset_index(drop=True)"
   ]
  },
  {
   "cell_type": "code",
   "execution_count": 5,
   "metadata": {},
   "outputs": [
    {
     "data": {
      "text/html": [
       "<div>\n",
       "<style scoped>\n",
       "    .dataframe tbody tr th:only-of-type {\n",
       "        vertical-align: middle;\n",
       "    }\n",
       "\n",
       "    .dataframe tbody tr th {\n",
       "        vertical-align: top;\n",
       "    }\n",
       "\n",
       "    .dataframe thead th {\n",
       "        text-align: right;\n",
       "    }\n",
       "</style>\n",
       "<table border=\"1\" class=\"dataframe\">\n",
       "  <thead>\n",
       "    <tr style=\"text-align: right;\">\n",
       "      <th></th>\n",
       "      <th>#09#c_ip:1</th>\n",
       "      <th>c_port:2</th>\n",
       "      <th>c_pkts_all:3</th>\n",
       "      <th>c_rst_cnt:4</th>\n",
       "      <th>c_ack_cnt:5</th>\n",
       "      <th>c_ack_cnt_p:6</th>\n",
       "      <th>c_bytes_uniq:7</th>\n",
       "      <th>c_pkts_data:8</th>\n",
       "      <th>c_bytes_all:9</th>\n",
       "      <th>c_pkts_retx:10</th>\n",
       "      <th>...</th>\n",
       "      <th>s_cwin_ini:95</th>\n",
       "      <th>s_pkts_rto:96</th>\n",
       "      <th>s_pkts_fs:97</th>\n",
       "      <th>s_pkts_reor:98</th>\n",
       "      <th>s_pkts_dup:99</th>\n",
       "      <th>s_pkts_unk:100</th>\n",
       "      <th>s_pkts_fc:101</th>\n",
       "      <th>s_pkts_unrto:102</th>\n",
       "      <th>s_pkts_unfs:103</th>\n",
       "      <th>s_syn_retx:104</th>\n",
       "    </tr>\n",
       "  </thead>\n",
       "  <tbody>\n",
       "    <tr>\n",
       "      <th>0</th>\n",
       "      <td>192.168.0.92</td>\n",
       "      <td>43432</td>\n",
       "      <td>12</td>\n",
       "      <td>0</td>\n",
       "      <td>11</td>\n",
       "      <td>5</td>\n",
       "      <td>2473</td>\n",
       "      <td>5</td>\n",
       "      <td>2473</td>\n",
       "      <td>0</td>\n",
       "      <td>...</td>\n",
       "      <td>1460</td>\n",
       "      <td>0</td>\n",
       "      <td>0</td>\n",
       "      <td>1</td>\n",
       "      <td>0</td>\n",
       "      <td>0</td>\n",
       "      <td>0</td>\n",
       "      <td>0</td>\n",
       "      <td>0</td>\n",
       "      <td>0</td>\n",
       "    </tr>\n",
       "    <tr>\n",
       "      <th>1</th>\n",
       "      <td>192.168.0.92</td>\n",
       "      <td>43434</td>\n",
       "      <td>12</td>\n",
       "      <td>0</td>\n",
       "      <td>11</td>\n",
       "      <td>5</td>\n",
       "      <td>2595</td>\n",
       "      <td>5</td>\n",
       "      <td>2595</td>\n",
       "      <td>0</td>\n",
       "      <td>...</td>\n",
       "      <td>1460</td>\n",
       "      <td>0</td>\n",
       "      <td>0</td>\n",
       "      <td>1</td>\n",
       "      <td>0</td>\n",
       "      <td>0</td>\n",
       "      <td>0</td>\n",
       "      <td>0</td>\n",
       "      <td>0</td>\n",
       "      <td>0</td>\n",
       "    </tr>\n",
       "    <tr>\n",
       "      <th>2</th>\n",
       "      <td>192.168.0.92</td>\n",
       "      <td>45634</td>\n",
       "      <td>16</td>\n",
       "      <td>0</td>\n",
       "      <td>15</td>\n",
       "      <td>7</td>\n",
       "      <td>2999</td>\n",
       "      <td>7</td>\n",
       "      <td>5292</td>\n",
       "      <td>2</td>\n",
       "      <td>...</td>\n",
       "      <td>2920</td>\n",
       "      <td>0</td>\n",
       "      <td>0</td>\n",
       "      <td>1</td>\n",
       "      <td>0</td>\n",
       "      <td>2</td>\n",
       "      <td>0</td>\n",
       "      <td>0</td>\n",
       "      <td>0</td>\n",
       "      <td>0</td>\n",
       "    </tr>\n",
       "    <tr>\n",
       "      <th>3</th>\n",
       "      <td>192.168.0.92</td>\n",
       "      <td>45636</td>\n",
       "      <td>12</td>\n",
       "      <td>0</td>\n",
       "      <td>11</td>\n",
       "      <td>5</td>\n",
       "      <td>2765</td>\n",
       "      <td>5</td>\n",
       "      <td>2765</td>\n",
       "      <td>0</td>\n",
       "      <td>...</td>\n",
       "      <td>4435</td>\n",
       "      <td>0</td>\n",
       "      <td>0</td>\n",
       "      <td>1</td>\n",
       "      <td>0</td>\n",
       "      <td>1</td>\n",
       "      <td>0</td>\n",
       "      <td>0</td>\n",
       "      <td>0</td>\n",
       "      <td>0</td>\n",
       "    </tr>\n",
       "    <tr>\n",
       "      <th>4</th>\n",
       "      <td>192.168.0.92</td>\n",
       "      <td>47230</td>\n",
       "      <td>10</td>\n",
       "      <td>0</td>\n",
       "      <td>9</td>\n",
       "      <td>6</td>\n",
       "      <td>675</td>\n",
       "      <td>2</td>\n",
       "      <td>675</td>\n",
       "      <td>0</td>\n",
       "      <td>...</td>\n",
       "      <td>2920</td>\n",
       "      <td>0</td>\n",
       "      <td>0</td>\n",
       "      <td>1</td>\n",
       "      <td>0</td>\n",
       "      <td>0</td>\n",
       "      <td>0</td>\n",
       "      <td>0</td>\n",
       "      <td>0</td>\n",
       "      <td>0</td>\n",
       "    </tr>\n",
       "    <tr>\n",
       "      <th>...</th>\n",
       "      <td>...</td>\n",
       "      <td>...</td>\n",
       "      <td>...</td>\n",
       "      <td>...</td>\n",
       "      <td>...</td>\n",
       "      <td>...</td>\n",
       "      <td>...</td>\n",
       "      <td>...</td>\n",
       "      <td>...</td>\n",
       "      <td>...</td>\n",
       "      <td>...</td>\n",
       "      <td>...</td>\n",
       "      <td>...</td>\n",
       "      <td>...</td>\n",
       "      <td>...</td>\n",
       "      <td>...</td>\n",
       "      <td>...</td>\n",
       "      <td>...</td>\n",
       "      <td>...</td>\n",
       "      <td>...</td>\n",
       "      <td>...</td>\n",
       "    </tr>\n",
       "    <tr>\n",
       "      <th>13150</th>\n",
       "      <td>192.168.0.92</td>\n",
       "      <td>57524</td>\n",
       "      <td>40</td>\n",
       "      <td>1</td>\n",
       "      <td>38</td>\n",
       "      <td>26</td>\n",
       "      <td>2645</td>\n",
       "      <td>11</td>\n",
       "      <td>2645</td>\n",
       "      <td>0</td>\n",
       "      <td>...</td>\n",
       "      <td>392</td>\n",
       "      <td>0</td>\n",
       "      <td>0</td>\n",
       "      <td>0</td>\n",
       "      <td>0</td>\n",
       "      <td>0</td>\n",
       "      <td>0</td>\n",
       "      <td>0</td>\n",
       "      <td>0</td>\n",
       "      <td>0</td>\n",
       "    </tr>\n",
       "    <tr>\n",
       "      <th>13151</th>\n",
       "      <td>192.168.0.92</td>\n",
       "      <td>57544</td>\n",
       "      <td>10</td>\n",
       "      <td>1</td>\n",
       "      <td>8</td>\n",
       "      <td>3</td>\n",
       "      <td>1354</td>\n",
       "      <td>4</td>\n",
       "      <td>1354</td>\n",
       "      <td>0</td>\n",
       "      <td>...</td>\n",
       "      <td>392</td>\n",
       "      <td>0</td>\n",
       "      <td>0</td>\n",
       "      <td>0</td>\n",
       "      <td>0</td>\n",
       "      <td>0</td>\n",
       "      <td>0</td>\n",
       "      <td>0</td>\n",
       "      <td>0</td>\n",
       "      <td>0</td>\n",
       "    </tr>\n",
       "    <tr>\n",
       "      <th>13152</th>\n",
       "      <td>192.168.0.92</td>\n",
       "      <td>57546</td>\n",
       "      <td>13</td>\n",
       "      <td>1</td>\n",
       "      <td>11</td>\n",
       "      <td>6</td>\n",
       "      <td>1354</td>\n",
       "      <td>4</td>\n",
       "      <td>1354</td>\n",
       "      <td>0</td>\n",
       "      <td>...</td>\n",
       "      <td>1448</td>\n",
       "      <td>0</td>\n",
       "      <td>0</td>\n",
       "      <td>1</td>\n",
       "      <td>0</td>\n",
       "      <td>0</td>\n",
       "      <td>0</td>\n",
       "      <td>0</td>\n",
       "      <td>0</td>\n",
       "      <td>0</td>\n",
       "    </tr>\n",
       "    <tr>\n",
       "      <th>13153</th>\n",
       "      <td>192.168.0.92</td>\n",
       "      <td>57548</td>\n",
       "      <td>13</td>\n",
       "      <td>1</td>\n",
       "      <td>11</td>\n",
       "      <td>6</td>\n",
       "      <td>1354</td>\n",
       "      <td>4</td>\n",
       "      <td>1354</td>\n",
       "      <td>0</td>\n",
       "      <td>...</td>\n",
       "      <td>2896</td>\n",
       "      <td>0</td>\n",
       "      <td>0</td>\n",
       "      <td>1</td>\n",
       "      <td>0</td>\n",
       "      <td>0</td>\n",
       "      <td>0</td>\n",
       "      <td>0</td>\n",
       "      <td>0</td>\n",
       "      <td>0</td>\n",
       "    </tr>\n",
       "    <tr>\n",
       "      <th>13154</th>\n",
       "      <td>192.168.0.92</td>\n",
       "      <td>57540</td>\n",
       "      <td>12</td>\n",
       "      <td>1</td>\n",
       "      <td>10</td>\n",
       "      <td>3</td>\n",
       "      <td>1354</td>\n",
       "      <td>5</td>\n",
       "      <td>1897</td>\n",
       "      <td>2</td>\n",
       "      <td>...</td>\n",
       "      <td>392</td>\n",
       "      <td>0</td>\n",
       "      <td>0</td>\n",
       "      <td>0</td>\n",
       "      <td>0</td>\n",
       "      <td>0</td>\n",
       "      <td>0</td>\n",
       "      <td>0</td>\n",
       "      <td>0</td>\n",
       "      <td>0</td>\n",
       "    </tr>\n",
       "  </tbody>\n",
       "</table>\n",
       "<p>13155 rows × 104 columns</p>\n",
       "</div>"
      ],
      "text/plain": [
       "         #09#c_ip:1  c_port:2  c_pkts_all:3  c_rst_cnt:4  c_ack_cnt:5  \\\n",
       "0      192.168.0.92     43432            12            0           11   \n",
       "1      192.168.0.92     43434            12            0           11   \n",
       "2      192.168.0.92     45634            16            0           15   \n",
       "3      192.168.0.92     45636            12            0           11   \n",
       "4      192.168.0.92     47230            10            0            9   \n",
       "...             ...       ...           ...          ...          ...   \n",
       "13150  192.168.0.92     57524            40            1           38   \n",
       "13151  192.168.0.92     57544            10            1            8   \n",
       "13152  192.168.0.92     57546            13            1           11   \n",
       "13153  192.168.0.92     57548            13            1           11   \n",
       "13154  192.168.0.92     57540            12            1           10   \n",
       "\n",
       "       c_ack_cnt_p:6  c_bytes_uniq:7  c_pkts_data:8  c_bytes_all:9  \\\n",
       "0                  5            2473              5           2473   \n",
       "1                  5            2595              5           2595   \n",
       "2                  7            2999              7           5292   \n",
       "3                  5            2765              5           2765   \n",
       "4                  6             675              2            675   \n",
       "...              ...             ...            ...            ...   \n",
       "13150             26            2645             11           2645   \n",
       "13151              3            1354              4           1354   \n",
       "13152              6            1354              4           1354   \n",
       "13153              6            1354              4           1354   \n",
       "13154              3            1354              5           1897   \n",
       "\n",
       "       c_pkts_retx:10  ...  s_cwin_ini:95  s_pkts_rto:96  s_pkts_fs:97  \\\n",
       "0                   0  ...           1460              0             0   \n",
       "1                   0  ...           1460              0             0   \n",
       "2                   2  ...           2920              0             0   \n",
       "3                   0  ...           4435              0             0   \n",
       "4                   0  ...           2920              0             0   \n",
       "...               ...  ...            ...            ...           ...   \n",
       "13150               0  ...            392              0             0   \n",
       "13151               0  ...            392              0             0   \n",
       "13152               0  ...           1448              0             0   \n",
       "13153               0  ...           2896              0             0   \n",
       "13154               2  ...            392              0             0   \n",
       "\n",
       "       s_pkts_reor:98 s_pkts_dup:99  s_pkts_unk:100  s_pkts_fc:101  \\\n",
       "0                   1             0               0              0   \n",
       "1                   1             0               0              0   \n",
       "2                   1             0               2              0   \n",
       "3                   1             0               1              0   \n",
       "4                   1             0               0              0   \n",
       "...               ...           ...             ...            ...   \n",
       "13150               0             0               0              0   \n",
       "13151               0             0               0              0   \n",
       "13152               1             0               0              0   \n",
       "13153               1             0               0              0   \n",
       "13154               0             0               0              0   \n",
       "\n",
       "       s_pkts_unrto:102  s_pkts_unfs:103  s_syn_retx:104  \n",
       "0                     0                0               0  \n",
       "1                     0                0               0  \n",
       "2                     0                0               0  \n",
       "3                     0                0               0  \n",
       "4                     0                0               0  \n",
       "...                 ...              ...             ...  \n",
       "13150                 0                0               0  \n",
       "13151                 0                0               0  \n",
       "13152                 0                0               0  \n",
       "13153                 0                0               0  \n",
       "13154                 0                0               0  \n",
       "\n",
       "[13155 rows x 104 columns]"
      ]
     },
     "execution_count": 5,
     "metadata": {},
     "output_type": "execute_result"
    }
   ],
   "source": [
    "raw_df"
   ]
  },
  {
   "cell_type": "code",
   "execution_count": 6,
   "metadata": {},
   "outputs": [
    {
     "name": "stdout",
     "output_type": "stream",
     "text": [
      "<class 'pandas.core.frame.DataFrame'>\n",
      "RangeIndex: 13155 entries, 0 to 13154\n",
      "Columns: 104 entries, #09#c_ip:1 to s_syn_retx:104\n",
      "dtypes: float64(17), int64(85), object(2)\n",
      "memory usage: 10.4+ MB\n"
     ]
    }
   ],
   "source": [
    "raw_df.info()"
   ]
  },
  {
   "cell_type": "code",
   "execution_count": 7,
   "metadata": {},
   "outputs": [],
   "source": [
    "f = open(dataDir + poolIPsFile, 'r')\n",
    "poolIPs = f.read().splitlines()"
   ]
  },
  {
   "cell_type": "code",
   "execution_count": 8,
   "metadata": {},
   "outputs": [],
   "source": [
    "def is_pool(x):\n",
    "    return 1 if x in poolIPs else 0\n",
    "\n",
    "raw_df[\"s_ip:15\"] = raw_df[\"s_ip:15\"].apply(is_pool)"
   ]
  },
  {
   "cell_type": "code",
   "execution_count": 9,
   "metadata": {},
   "outputs": [
    {
     "data": {
      "text/plain": [
       "Index(['#09#c_ip:1', 'c_port:2', 'c_pkts_all:3', 'c_rst_cnt:4', 'c_ack_cnt:5',\n",
       "       'c_ack_cnt_p:6', 'c_bytes_uniq:7', 'c_pkts_data:8', 'c_bytes_all:9',\n",
       "       'c_pkts_retx:10',\n",
       "       ...\n",
       "       's_cwin_ini:95', 's_pkts_rto:96', 's_pkts_fs:97', 's_pkts_reor:98',\n",
       "       's_pkts_dup:99', 's_pkts_unk:100', 's_pkts_fc:101', 's_pkts_unrto:102',\n",
       "       's_pkts_unfs:103', 's_syn_retx:104'],\n",
       "      dtype='object', length=104)"
      ]
     },
     "execution_count": 9,
     "metadata": {},
     "output_type": "execute_result"
    }
   ],
   "source": [
    "raw_df.columns"
   ]
  },
  {
   "cell_type": "code",
   "execution_count": 10,
   "metadata": {},
   "outputs": [],
   "source": [
    "bad_cols = [\"#09#c_ip:1\", \"c_port:2\", \"s_port:16\", 'c_pkts_ooo:12',\n",
    " 'c_isint:38', 's_isint:39', 'c_iscrypto:40', 's_iscrypto:41', 'p2p_t:43',\n",
    "  'c_ttl_min:50', 'c_ttl_max:51', 'c_f1323_opt:59', 'c_tm_opt:60',\n",
    "   'c_sack_opt:62', 'c_mss:64', 'c_win_0:69', 'c_pkts_reor:75',\n",
    "    'c_pkts_dup:76', 'c_pkts_fc:78', 'c_pkts_unrto:79',\n",
    "     'c_pkts_unfs:80', 'c_syn_retx:81', 's_pkts_fc:101',\n",
    "      's_pkts_unfs:103', 's_syn_retx:104']\n",
    "important_cols = ['c_mss_min:66', 'c_cwin_min:71', 'durat:31', 's_last:35',\n",
    "       'c_cwin_ini:72', 'c_ack_cnt_p:6', 's_pkts_all:17', 'c_last:34',\n",
    "       's_ack_cnt_p:20', 's_ack_cnt:19', 'c_cwin_max:70', 's_cwin_ini:95',\n",
    "       'c_bytes_uniq:7', 's_rtt_max:54', 's_cwin_max:93', 'c_pkts_data:8',\n",
    "       'c_win_min:68', 's_cwin_min:94', 's_ttl_min:57', 's_bytes_retx:25']\n",
    "pipeline_simple_features = ColumnTransformer([('drop_bad_cols','drop', bad_cols),\n",
    "                                                ('scaler', StandardScaler(), important_cols),])"
   ]
  },
  {
   "cell_type": "code",
   "execution_count": 11,
   "metadata": {},
   "outputs": [],
   "source": [
    "train_set, test_set = train_test_split(raw_df, test_size=0.2, random_state=42)"
   ]
  },
  {
   "cell_type": "code",
   "execution_count": 12,
   "metadata": {},
   "outputs": [],
   "source": [
    "flow_df = pipeline_simple_features.fit_transform(train_set)\n",
    "labels = train_set[\"s_ip:15\"].copy()"
   ]
  },
  {
   "cell_type": "code",
   "execution_count": 13,
   "metadata": {},
   "outputs": [],
   "source": [
    "test_flow_df = pipeline_simple_features.transform(test_set)\n",
    "test_labels = test_set[\"s_ip:15\"].copy()"
   ]
  },
  {
   "cell_type": "markdown",
   "metadata": {},
   "source": [
    "# Decision Tree Classifier:"
   ]
  },
  {
   "cell_type": "code",
   "execution_count": 14,
   "metadata": {},
   "outputs": [
    {
     "data": {
      "text/plain": [
       "array([[10327,     7],\n",
       "       [    3,   187]])"
      ]
     },
     "execution_count": 14,
     "metadata": {},
     "output_type": "execute_result"
    }
   ],
   "source": [
    "treeClassifier = DecisionTreeClassifier()\n",
    "flow_pred_labels = cross_val_predict(treeClassifier, flow_df, labels, cv=10)\n",
    "confusion_matrix(labels, flow_pred_labels)"
   ]
  },
  {
   "cell_type": "code",
   "execution_count": 15,
   "metadata": {},
   "outputs": [
    {
     "name": "stdout",
     "output_type": "stream",
     "text": [
      "Precision: 0.9639175257731959\n",
      "Recall: 0.9842105263157894\n",
      "F1: 0.9739583333333334\n"
     ]
    }
   ],
   "source": [
    "print(\"Precision:\", precision_score(labels, flow_pred_labels))\n",
    "print(\"Recall:\", recall_score(labels, flow_pred_labels))\n",
    "print(\"F1:\", f1_score(labels, flow_pred_labels))"
   ]
  },
  {
   "cell_type": "markdown",
   "metadata": {},
   "source": [
    "### Test Data on the Decision Tree Calssifier:"
   ]
  },
  {
   "cell_type": "code",
   "execution_count": 16,
   "metadata": {},
   "outputs": [],
   "source": [
    "treeClassifier.fit(flow_df, labels)\n",
    "test_pred_labels = treeClassifier.predict(test_flow_df)"
   ]
  },
  {
   "cell_type": "code",
   "execution_count": 17,
   "metadata": {},
   "outputs": [
    {
     "name": "stdout",
     "output_type": "stream",
     "text": [
      "Test Precision: 1.0\n",
      "Test Recall: 1.0\n",
      "Test F1: 1.0\n"
     ]
    }
   ],
   "source": [
    "print(\"Test Precision:\", precision_score(test_labels, test_pred_labels))\n",
    "print(\"Test Recall:\", recall_score(test_labels, test_pred_labels))\n",
    "print(\"Test F1:\", f1_score(test_labels, test_pred_labels))"
   ]
  },
  {
   "cell_type": "code",
   "execution_count": 18,
   "metadata": {},
   "outputs": [
    {
     "data": {
      "text/plain": [
       "array([[2595,    0],\n",
       "       [   0,   36]])"
      ]
     },
     "execution_count": 18,
     "metadata": {},
     "output_type": "execute_result"
    }
   ],
   "source": [
    "confusion_matrix(test_labels, test_pred_labels)"
   ]
  },
  {
   "cell_type": "markdown",
   "metadata": {},
   "source": [
    "# Random Forrest Classifier:"
   ]
  },
  {
   "cell_type": "code",
   "execution_count": 19,
   "metadata": {},
   "outputs": [
    {
     "data": {
      "text/plain": [
       "array([[10333,     1],\n",
       "       [    1,   189]])"
      ]
     },
     "execution_count": 19,
     "metadata": {},
     "output_type": "execute_result"
    }
   ],
   "source": [
    "randomforestClassifier = RandomForestClassifier(n_estimators=25)\n",
    "flow_pred_labels = cross_val_predict(randomforestClassifier, flow_df, labels, cv=10)\n",
    "confusion_matrix(labels, flow_pred_labels)"
   ]
  },
  {
   "cell_type": "code",
   "execution_count": 20,
   "metadata": {},
   "outputs": [
    {
     "name": "stdout",
     "output_type": "stream",
     "text": [
      "Precision: 0.9947368421052631\n",
      "Recall: 0.9947368421052631\n",
      "F1: 0.9947368421052631\n"
     ]
    }
   ],
   "source": [
    "print(\"Precision:\", precision_score(labels, flow_pred_labels))\n",
    "print(\"Recall:\", recall_score(labels, flow_pred_labels))\n",
    "print(\"F1:\", f1_score(labels, flow_pred_labels))"
   ]
  },
  {
   "cell_type": "markdown",
   "metadata": {},
   "source": [
    "### Test Data on Random Forrest Classifier:"
   ]
  },
  {
   "cell_type": "code",
   "execution_count": 21,
   "metadata": {},
   "outputs": [],
   "source": [
    "randomforestClassifier.fit(flow_df, labels)\n",
    "test_pred_labels = randomforestClassifier.predict(test_flow_df)"
   ]
  },
  {
   "cell_type": "code",
   "execution_count": 22,
   "metadata": {},
   "outputs": [
    {
     "name": "stdout",
     "output_type": "stream",
     "text": [
      "Test Precision: 1.0\n",
      "Test Recall: 1.0\n",
      "Test F1: 1.0\n"
     ]
    }
   ],
   "source": [
    "print(\"Test Precision:\", precision_score(test_labels, test_pred_labels))\n",
    "print(\"Test Recall:\", recall_score(test_labels, test_pred_labels))\n",
    "print(\"Test F1:\", f1_score(test_labels, test_pred_labels))"
   ]
  },
  {
   "cell_type": "code",
   "execution_count": 23,
   "metadata": {},
   "outputs": [
    {
     "data": {
      "text/plain": [
       "array([[2595,    0],\n",
       "       [   0,   36]])"
      ]
     },
     "execution_count": 23,
     "metadata": {},
     "output_type": "execute_result"
    }
   ],
   "source": [
    "confusion_matrix(test_labels, test_pred_labels)"
   ]
  }
 ],
 "metadata": {
  "interpreter": {
   "hash": "916dbcbb3f70747c44a77c7bcd40155683ae19c65e1c03b4aa3499c5328201f1"
  },
  "kernelspec": {
   "display_name": "Python 3.9.7 64-bit",
   "language": "python",
   "name": "python3"
  },
  "language_info": {
   "codemirror_mode": {
    "name": "ipython",
    "version": 3
   },
   "file_extension": ".py",
   "mimetype": "text/x-python",
   "name": "python",
   "nbconvert_exporter": "python",
   "pygments_lexer": "ipython3",
   "version": "3.9.7"
  },
  "orig_nbformat": 4
 },
 "nbformat": 4,
 "nbformat_minor": 2
}
